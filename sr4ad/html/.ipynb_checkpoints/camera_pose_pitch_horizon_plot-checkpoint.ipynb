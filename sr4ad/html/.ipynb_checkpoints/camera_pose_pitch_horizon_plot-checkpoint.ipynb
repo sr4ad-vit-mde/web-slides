{
 "cells": [
  {
   "cell_type": "code",
   "execution_count": 1,
   "id": "8abf5325",
   "metadata": {},
   "outputs": [
    {
     "name": "stdout",
     "output_type": "stream",
     "text": [
      "col standard deviation:\n"
     ]
    },
    {
     "data": {
      "text/plain": [
       "-30     89.896670\n",
       "-20    102.761438\n",
       "-10     19.784163\n",
       "0        0.000000\n",
       "10      11.580471\n",
       "20      12.509507\n",
       "30      15.760571\n",
       "dtype: float64"
      ]
     },
     "metadata": {},
     "output_type": "display_data"
    },
    {
     "name": "stdout",
     "output_type": "stream",
     "text": [
      "\n",
      "col means:\n",
      "-30   -14.372610\n",
      "-20    -6.711694\n",
      "-10    -6.283745\n",
      "0       0.000000\n",
      "10      7.422468\n",
      "20     16.914204\n",
      "30     25.619026\n",
      "dtype: float64\n",
      "\n",
      "-30    255.317399\n",
      "-20    301.572619\n",
      "-10     53.068745\n",
      "0        0.000000\n",
      "10      42.163880\n",
      "20      54.442726\n",
      "30      72.900739\n",
      "dtype: float64\n",
      "-30   -284.062619\n",
      "-20   -314.996006\n",
      "-10    -65.636235\n",
      "0        0.000000\n",
      "10     -27.318943\n",
      "20     -20.614318\n",
      "30     -21.662687\n",
      "dtype: float64\n",
      "Rows before 3 std removal: 100\n",
      "99\n",
      "98\n",
      "97\n",
      "94\n",
      "94\n",
      "94\n",
      "Rows after 3 std removal: 94\n"
     ]
    }
   ],
   "source": [
    "import os\n",
    "import plotly\n",
    "import plotly.graph_objs as go\n",
    "import plotly.express as px\n",
    "from plotly.subplots import make_subplots\n",
    "import pandas as pd\n",
    "import numpy as np\n",
    "from IPython.display import display\n",
    "\n",
    "cfg = {\n",
    "    'dpt_pitch_file_path' : '{}_derived/pitch/dpt_output/pitch.csv'.format(os.environ[\"KITTI_PATH\"]),\n",
    "    'mono_pitch_file_path' : '{}_derived/pitch/monodepth_output/pitch.csv'.format(os.environ[\"KITTI_PATH\"])\n",
    "}\n",
    "\n",
    "dpt_pitch_df = pd.read_csv(cfg['dpt_pitch_file_path'])\n",
    "mono_pitch_df = pd.read_csv(cfg['mono_pitch_file_path'])\n",
    "\n",
    "# remove any rows with NaN entries\n",
    "dpt_pitch_df.dropna(how='any', inplace=True)\n",
    "\n",
    "# remove any rows where a column entry is more than 3 std off from the other entries in the same column\n",
    "dpt_pitch_stds = dpt_pitch_df.std()\n",
    "dpt_pitch_means = dpt_pitch_df.mean()\n",
    "print(\"col standard deviation:\")\n",
    "display(dpt_pitch_stds)\n",
    "print()\n",
    "print(\"col means:\")\n",
    "print(dpt_pitch_means)\n",
    "print()\n",
    "\n",
    "outlier_max_threshold = dpt_pitch_means.add(dpt_pitch_stds.multiply(3))\n",
    "outlier_min_threshold = dpt_pitch_means.sub(dpt_pitch_stds.multiply(3))\n",
    "print(outlier_max_threshold)\n",
    "print(outlier_min_threshold)\n",
    "\n",
    "print(\"Rows before 3 std removal: {}\".format(len(dpt_pitch_df)))\n",
    "for col in dpt_pitch_df.columns:\n",
    "    if col == '0':\n",
    "        continue\n",
    "    dpt_pitch_df = dpt_pitch_df[dpt_pitch_df[col] < outlier_max_threshold[col]]\n",
    "    dpt_pitch_df = dpt_pitch_df[dpt_pitch_df[col] > outlier_min_threshold[col]]\n",
    "    print(len(dpt_pitch_df))\n",
    "print(\"Rows after 3 std removal: {}\".format(len(dpt_pitch_df)))"
   ]
  },
  {
   "cell_type": "code",
   "execution_count": 2,
   "id": "7064b5d9",
   "metadata": {},
   "outputs": [
    {
     "name": "stdout",
     "output_type": "stream",
     "text": [
      "(200, 7)\n",
      "(200, 7)\n",
      "col standard deviation:\n"
     ]
    },
    {
     "data": {
      "text/plain": [
       "-30     20.069797\n",
       "-20    119.854888\n",
       "-10     90.886627\n",
       "0        0.000000\n",
       "10      19.657837\n",
       "20      21.993973\n",
       "30      10.228208\n",
       "dtype: float64"
      ]
     },
     "metadata": {},
     "output_type": "display_data"
    },
    {
     "name": "stdout",
     "output_type": "stream",
     "text": [
      "\n",
      "col means:\n",
      "-30   -17.755794\n",
      "-20   -21.957223\n",
      "-10   -18.770435\n",
      "0       0.000000\n",
      "10      8.615025\n",
      "20     15.133012\n",
      "30     22.588561\n",
      "dtype: float64\n",
      "\n",
      "-30     42.453596\n",
      "-20    337.607442\n",
      "-10    253.889446\n",
      "0        0.000000\n",
      "10      67.588536\n",
      "20      81.114930\n",
      "30      53.273185\n",
      "dtype: float64\n",
      "-30    -77.965184\n",
      "-20   -381.521888\n",
      "-10   -291.430316\n",
      "0        0.000000\n",
      "10     -50.358486\n",
      "20     -50.848906\n",
      "30      -8.096064\n",
      "dtype: float64\n",
      "Rows before 3 std removal: 200\n",
      "198\n",
      "197\n",
      "195\n",
      "195\n",
      "195\n",
      "194\n",
      "Rows after 3 std removal: 194\n",
      "-30    7.624690\n",
      "-20    5.830824\n",
      "-10    4.446067\n",
      "0      0.000000\n",
      "10     3.433476\n",
      "20     5.054202\n",
      "30     8.718546\n",
      "dtype: float64\n",
      "(194, 7)\n"
     ]
    }
   ],
   "source": [
    "print(mono_pitch_df.shape)\n",
    "# remove any rows with NaN entries\n",
    "mono_pitch_df.dropna(how='any', inplace=True)\n",
    "print(mono_pitch_df.shape)\n",
    "\n",
    "# remove any rows where a column entry is more than 3 std off from the other entries in the same column\n",
    "mono_pitch_stds = mono_pitch_df.std()\n",
    "mono_pitch_means = mono_pitch_df.mean()\n",
    "print(\"col standard deviation:\")\n",
    "display(mono_pitch_stds)\n",
    "print()\n",
    "print(\"col means:\")\n",
    "print(mono_pitch_means)\n",
    "print()\n",
    "\n",
    "outlier_max_threshold = mono_pitch_means.add(mono_pitch_stds.multiply(3))\n",
    "outlier_min_threshold = mono_pitch_means.sub(mono_pitch_stds.multiply(3))\n",
    "print(outlier_max_threshold)\n",
    "print(outlier_min_threshold)\n",
    "\n",
    "print(\"Rows before 3 std removal: {}\".format(len(mono_pitch_df)))\n",
    "for col in mono_pitch_df.columns:\n",
    "    if col == '0':\n",
    "        continue\n",
    "    mono_pitch_df = mono_pitch_df[mono_pitch_df[col] < outlier_max_threshold[col]]\n",
    "    mono_pitch_df = mono_pitch_df[mono_pitch_df[col] > outlier_min_threshold[col]]\n",
    "    print(len(mono_pitch_df))\n",
    "print(\"Rows after 3 std removal: {}\".format(len(mono_pitch_df)))\n",
    "print(mono_pitch_df.std())\n",
    "print(mono_pitch_df.shape)"
   ]
  },
  {
   "cell_type": "code",
   "execution_count": 5,
   "id": "610ae0e9",
   "metadata": {
    "scrolled": false
   },
   "outputs": [
    {
     "data": {
      "application/vnd.plotly.v1+json": {
       "config": {
        "plotlyServerURL": "https://plot.ly"
       },
       "data": [
        {
         "line": {
          "color": "rgb(217, 234, 245)",
          "width": 0.1
         },
         "mode": "lines",
         "name": "upper bound",
         "showlegend": false,
         "type": "scatter",
         "x": [
          -30,
          -20,
          -10,
          0,
          10,
          20,
          30
         ],
         "y": [
          -25.19685994723901,
          -16.36126074694896,
          -7.485737970331982,
          0,
          10.988123207137983,
          21.59369695054197,
          32.38092414158636
         ]
        },
        {
         "fill": "tonexty",
         "line": {
          "color": "rgb(217, 234, 245)"
         },
         "mode": "lines",
         "name": "mean",
         "showlegend": false,
         "type": "scatter",
         "x": [
          -30,
          -20,
          -10,
          0,
          10,
          20,
          30
         ],
         "y": [
          -28.106104100004156,
          -18.465967381254156,
          -9.049812154566988,
          0,
          9.465666750644116,
          19.205339553508352,
          28.446256840482672
         ]
        },
        {
         "fill": "tonexty",
         "line": {
          "color": "rgb(217, 234, 245)"
         },
         "mode": "lines",
         "name": "lower bound",
         "showlegend": false,
         "type": "scatter",
         "x": [
          -30,
          -20,
          -10,
          0,
          10,
          20,
          30
         ],
         "y": [
          -31.015348252769304,
          -20.57067401555935,
          -10.613886338801994,
          0,
          7.94321029415025,
          16.816982156474737,
          24.51158953937898
         ]
        },
        {
         "line": {
          "color": "rgb(217, 234, 245)",
          "width": 0.1
         },
         "mode": "lines",
         "name": "lower bound",
         "showlegend": false,
         "type": "scatter",
         "x": [
          -30,
          -20,
          -10,
          0,
          10,
          20,
          30
         ],
         "y": [
          -31.015348252769304,
          -20.57067401555935,
          -10.613886338801994,
          0,
          7.94321029415025,
          16.816982156474737,
          24.51158953937898
         ]
        },
        {
         "line": {
          "color": "rgb(2, 114, 188)",
          "width": 1.5
         },
         "mode": "markers+lines",
         "name": "mean",
         "showlegend": false,
         "type": "scatter",
         "x": [
          -30,
          -20,
          -10,
          0,
          10,
          20,
          30
         ],
         "y": [
          -28.106104100004156,
          -18.465967381254156,
          -9.049812154566988,
          0,
          9.465666750644116,
          19.205339553508352,
          28.446256840482672
         ]
        },
        {
         "line": {
          "color": "black",
          "dash": "dash",
          "width": 1.5
         },
         "mode": "lines",
         "name": "expected",
         "showlegend": false,
         "type": "scatter",
         "x": [
          -30,
          -20,
          -10,
          0,
          10,
          20,
          30
         ],
         "y": [
          -30,
          -20,
          -10,
          0,
          10,
          20,
          30
         ]
        },
        {
         "line": {
          "color": "rgb(217, 234, 245)",
          "width": 0.1
         },
         "mode": "lines",
         "name": "upper bound",
         "showlegend": false,
         "type": "scatter",
         "x": [
          -30,
          -20,
          -10,
          0,
          10,
          20,
          30
         ],
         "y": [
          -25.19685994723901,
          -16.36126074694896,
          -7.485737970331982,
          0,
          10.988123207137983,
          21.59369695054197,
          32.38092414158636
         ]
        },
        {
         "fill": "tonexty",
         "line": {
          "color": "rgb(217, 234, 245)"
         },
         "mode": "lines",
         "name": "mean",
         "showlegend": false,
         "type": "scatter",
         "x": [
          -30,
          -20,
          -10,
          0,
          10,
          20,
          30
         ],
         "y": [
          -28.106104100004156,
          -18.465967381254156,
          -9.049812154566988,
          0,
          9.465666750644116,
          19.205339553508352,
          28.446256840482672
         ]
        },
        {
         "fill": "tonexty",
         "line": {
          "color": "rgb(217, 234, 245)"
         },
         "mode": "lines",
         "name": "lower bound",
         "showlegend": false,
         "type": "scatter",
         "x": [
          -30,
          -20,
          -10,
          0,
          10,
          20,
          30
         ],
         "y": [
          -31.015348252769304,
          -20.57067401555935,
          -10.613886338801994,
          0,
          7.94321029415025,
          16.816982156474737,
          24.51158953937898
         ]
        },
        {
         "line": {
          "color": "rgb(217, 234, 245)",
          "width": 0.1
         },
         "mode": "lines",
         "name": "lower bound",
         "showlegend": false,
         "type": "scatter",
         "x": [
          -30,
          -20,
          -10,
          0,
          10,
          20,
          30
         ],
         "y": [
          -31.015348252769304,
          -20.57067401555935,
          -10.613886338801994,
          0,
          7.94321029415025,
          16.816982156474737,
          24.51158953937898
         ]
        },
        {
         "line": {
          "color": "rgb(2, 114, 188)",
          "width": 1.5
         },
         "mode": "markers+lines",
         "name": "mean",
         "showlegend": false,
         "type": "scatter",
         "x": [
          -30,
          -20,
          -10,
          0,
          10,
          20,
          30
         ],
         "y": [
          -28.106104100004156,
          -18.465967381254156,
          -9.049812154566988,
          0,
          9.465666750644116,
          19.205339553508352,
          28.446256840482672
         ]
        },
        {
         "line": {
          "color": "black",
          "dash": "dash",
          "width": 1.5
         },
         "mode": "lines",
         "name": "expected",
         "showlegend": false,
         "type": "scatter",
         "x": [
          -30,
          -20,
          -10,
          0,
          10,
          20,
          30
         ],
         "y": [
          -30,
          -20,
          -10,
          0,
          10,
          20,
          30
         ]
        },
        {
         "line": {
          "color": "rgb(217, 234, 245)",
          "width": 0.1
         },
         "mode": "lines",
         "name": "upper bound",
         "showlegend": false,
         "type": "scatter",
         "x": [
          -30,
          -20,
          -10,
          0,
          10,
          20,
          30
         ],
         "y": [
          -25.19685994723901,
          -16.36126074694896,
          -7.485737970331982,
          0,
          10.988123207137983,
          21.59369695054197,
          32.38092414158636
         ]
        },
        {
         "fill": "tonexty",
         "line": {
          "color": "rgb(217, 234, 245)"
         },
         "mode": "lines",
         "name": "mean",
         "showlegend": false,
         "type": "scatter",
         "x": [
          -30,
          -20,
          -10,
          0,
          10,
          20,
          30
         ],
         "y": [
          -28.106104100004156,
          -18.465967381254156,
          -9.049812154566988,
          0,
          9.465666750644116,
          19.205339553508352,
          28.446256840482672
         ]
        },
        {
         "fill": "tonexty",
         "line": {
          "color": "rgb(217, 234, 245)"
         },
         "mode": "lines",
         "name": "lower bound",
         "showlegend": false,
         "type": "scatter",
         "x": [
          -30,
          -20,
          -10,
          0,
          10,
          20,
          30
         ],
         "y": [
          -31.015348252769304,
          -20.57067401555935,
          -10.613886338801994,
          0,
          7.94321029415025,
          16.816982156474737,
          24.51158953937898
         ]
        },
        {
         "line": {
          "color": "rgb(217, 234, 245)",
          "width": 0.1
         },
         "mode": "lines",
         "name": "lower bound",
         "showlegend": false,
         "type": "scatter",
         "x": [
          -30,
          -20,
          -10,
          0,
          10,
          20,
          30
         ],
         "y": [
          -31.015348252769304,
          -20.57067401555935,
          -10.613886338801994,
          0,
          7.94321029415025,
          16.816982156474737,
          24.51158953937898
         ]
        },
        {
         "line": {
          "color": "rgb(2, 114, 188)",
          "width": 1.5
         },
         "mode": "markers+lines",
         "name": "mean",
         "showlegend": false,
         "type": "scatter",
         "x": [
          -30,
          -20,
          -10,
          0,
          10,
          20,
          30
         ],
         "y": [
          -28.106104100004156,
          -18.465967381254156,
          -9.049812154566988,
          0,
          9.465666750644116,
          19.205339553508352,
          28.446256840482672
         ]
        },
        {
         "line": {
          "color": "black",
          "dash": "dash",
          "width": 1.5
         },
         "mode": "lines",
         "name": "expected",
         "showlegend": false,
         "type": "scatter",
         "x": [
          -30,
          -20,
          -10,
          0,
          10,
          20,
          30
         ],
         "y": [
          -30,
          -20,
          -10,
          0,
          10,
          20,
          30
         ]
        },
        {
         "line": {
          "color": "rgb(217, 234, 245)",
          "width": 0.1
         },
         "mode": "lines",
         "name": "upper bound",
         "showlegend": false,
         "type": "scatter",
         "x": [
          -30,
          -20,
          -10,
          0,
          10,
          20,
          30
         ],
         "y": [
          -25.19685994723901,
          -16.36126074694896,
          -7.485737970331982,
          0,
          10.988123207137983,
          21.59369695054197,
          32.38092414158636
         ]
        },
        {
         "fill": "tonexty",
         "line": {
          "color": "rgb(217, 234, 245)"
         },
         "mode": "lines",
         "name": "mean",
         "showlegend": false,
         "type": "scatter",
         "x": [
          -30,
          -20,
          -10,
          0,
          10,
          20,
          30
         ],
         "y": [
          -28.106104100004156,
          -18.465967381254156,
          -9.049812154566988,
          0,
          9.465666750644116,
          19.205339553508352,
          28.446256840482672
         ]
        },
        {
         "fill": "tonexty",
         "line": {
          "color": "rgb(217, 234, 245)"
         },
         "mode": "lines",
         "name": "lower bound",
         "showlegend": false,
         "type": "scatter",
         "x": [
          -30,
          -20,
          -10,
          0,
          10,
          20,
          30
         ],
         "y": [
          -31.015348252769304,
          -20.57067401555935,
          -10.613886338801994,
          0,
          7.94321029415025,
          16.816982156474737,
          24.51158953937898
         ]
        },
        {
         "line": {
          "color": "rgb(217, 234, 245)",
          "width": 0.1
         },
         "mode": "lines",
         "name": "lower bound",
         "showlegend": false,
         "type": "scatter",
         "x": [
          -30,
          -20,
          -10,
          0,
          10,
          20,
          30
         ],
         "y": [
          -31.015348252769304,
          -20.57067401555935,
          -10.613886338801994,
          0,
          7.94321029415025,
          16.816982156474737,
          24.51158953937898
         ]
        },
        {
         "line": {
          "color": "rgb(2, 114, 188)",
          "width": 1.5
         },
         "mode": "markers+lines",
         "name": "mean",
         "showlegend": false,
         "type": "scatter",
         "x": [
          -30,
          -20,
          -10,
          0,
          10,
          20,
          30
         ],
         "y": [
          -28.106104100004156,
          -18.465967381254156,
          -9.049812154566988,
          0,
          9.465666750644116,
          19.205339553508352,
          28.446256840482672
         ]
        },
        {
         "line": {
          "color": "black",
          "dash": "dash",
          "width": 1.5
         },
         "mode": "lines",
         "name": "expected",
         "showlegend": false,
         "type": "scatter",
         "x": [
          -30,
          -20,
          -10,
          0,
          10,
          20,
          30
         ],
         "y": [
          -30,
          -20,
          -10,
          0,
          10,
          20,
          30
         ]
        },
        {
         "line": {
          "color": "rgb(217, 234, 245)",
          "width": 0.1
         },
         "mode": "lines",
         "name": "upper bound",
         "showlegend": false,
         "type": "scatter",
         "x": [
          -30,
          -20,
          -10,
          0,
          10,
          20,
          30
         ],
         "y": [
          -25.19685994723901,
          -16.36126074694896,
          -7.485737970331982,
          0,
          10.988123207137983,
          21.59369695054197,
          32.38092414158636
         ]
        },
        {
         "fill": "tonexty",
         "line": {
          "color": "rgb(217, 234, 245)"
         },
         "mode": "lines",
         "name": "mean",
         "showlegend": false,
         "type": "scatter",
         "x": [
          -30,
          -20,
          -10,
          0,
          10,
          20,
          30
         ],
         "y": [
          -28.106104100004156,
          -18.465967381254156,
          -9.049812154566988,
          0,
          9.465666750644116,
          19.205339553508352,
          28.446256840482672
         ]
        },
        {
         "fill": "tonexty",
         "line": {
          "color": "rgb(217, 234, 245)"
         },
         "mode": "lines",
         "name": "lower bound",
         "showlegend": false,
         "type": "scatter",
         "x": [
          -30,
          -20,
          -10,
          0,
          10,
          20,
          30
         ],
         "y": [
          -31.015348252769304,
          -20.57067401555935,
          -10.613886338801994,
          0,
          7.94321029415025,
          16.816982156474737,
          24.51158953937898
         ]
        },
        {
         "line": {
          "color": "rgb(217, 234, 245)",
          "width": 0.1
         },
         "mode": "lines",
         "name": "lower bound",
         "showlegend": false,
         "type": "scatter",
         "x": [
          -30,
          -20,
          -10,
          0,
          10,
          20,
          30
         ],
         "y": [
          -31.015348252769304,
          -20.57067401555935,
          -10.613886338801994,
          0,
          7.94321029415025,
          16.816982156474737,
          24.51158953937898
         ]
        },
        {
         "line": {
          "color": "rgb(2, 114, 188)",
          "width": 1.5
         },
         "mode": "markers+lines",
         "name": "mean",
         "showlegend": false,
         "type": "scatter",
         "x": [
          -30,
          -20,
          -10,
          0,
          10,
          20,
          30
         ],
         "y": [
          -28.106104100004156,
          -18.465967381254156,
          -9.049812154566988,
          0,
          9.465666750644116,
          19.205339553508352,
          28.446256840482672
         ]
        },
        {
         "line": {
          "color": "black",
          "dash": "dash",
          "width": 1.5
         },
         "mode": "lines",
         "name": "expected",
         "showlegend": false,
         "type": "scatter",
         "x": [
          -30,
          -20,
          -10,
          0,
          10,
          20,
          30
         ],
         "y": [
          -30,
          -20,
          -10,
          0,
          10,
          20,
          30
         ]
        },
        {
         "line": {
          "color": "rgb(217, 234, 245)",
          "width": 0.1
         },
         "mode": "lines",
         "name": "upper bound",
         "showlegend": false,
         "type": "scatter",
         "x": [
          -30,
          -20,
          -10,
          0,
          10,
          20,
          30
         ],
         "y": [
          -25.19685994723901,
          -16.36126074694896,
          -7.485737970331982,
          0,
          10.988123207137983,
          21.59369695054197,
          32.38092414158636
         ]
        },
        {
         "fill": "tonexty",
         "line": {
          "color": "rgb(217, 234, 245)"
         },
         "mode": "lines",
         "name": "mean",
         "showlegend": false,
         "type": "scatter",
         "x": [
          -30,
          -20,
          -10,
          0,
          10,
          20,
          30
         ],
         "y": [
          -28.106104100004156,
          -18.465967381254156,
          -9.049812154566988,
          0,
          9.465666750644116,
          19.205339553508352,
          28.446256840482672
         ]
        },
        {
         "fill": "tonexty",
         "line": {
          "color": "rgb(217, 234, 245)"
         },
         "mode": "lines",
         "name": "lower bound",
         "showlegend": false,
         "type": "scatter",
         "x": [
          -30,
          -20,
          -10,
          0,
          10,
          20,
          30
         ],
         "y": [
          -31.015348252769304,
          -20.57067401555935,
          -10.613886338801994,
          0,
          7.94321029415025,
          16.816982156474737,
          24.51158953937898
         ]
        },
        {
         "line": {
          "color": "rgb(217, 234, 245)",
          "width": 0.1
         },
         "mode": "lines",
         "name": "lower bound",
         "showlegend": false,
         "type": "scatter",
         "x": [
          -30,
          -20,
          -10,
          0,
          10,
          20,
          30
         ],
         "y": [
          -31.015348252769304,
          -20.57067401555935,
          -10.613886338801994,
          0,
          7.94321029415025,
          16.816982156474737,
          24.51158953937898
         ]
        },
        {
         "line": {
          "color": "rgb(2, 114, 188)",
          "width": 1.5
         },
         "mode": "markers+lines",
         "name": "mean",
         "showlegend": false,
         "type": "scatter",
         "x": [
          -30,
          -20,
          -10,
          0,
          10,
          20,
          30
         ],
         "y": [
          -28.106104100004156,
          -18.465967381254156,
          -9.049812154566988,
          0,
          9.465666750644116,
          19.205339553508352,
          28.446256840482672
         ]
        },
        {
         "line": {
          "color": "black",
          "dash": "dash",
          "width": 1.5
         },
         "mode": "lines",
         "name": "expected",
         "showlegend": false,
         "type": "scatter",
         "x": [
          -30,
          -20,
          -10,
          0,
          10,
          20,
          30
         ],
         "y": [
          -30,
          -20,
          -10,
          0,
          10,
          20,
          30
         ]
        },
        {
         "line": {
          "color": "rgb(217, 234, 245)",
          "width": 0.1
         },
         "mode": "lines",
         "name": "upper bound",
         "showlegend": false,
         "type": "scatter",
         "x": [
          -30,
          -20,
          -10,
          0,
          10,
          20,
          30
         ],
         "y": [
          -25.19685994723901,
          -16.36126074694896,
          -7.485737970331982,
          0,
          10.988123207137983,
          21.59369695054197,
          32.38092414158636
         ]
        },
        {
         "fill": "tonexty",
         "line": {
          "color": "rgb(217, 234, 245)"
         },
         "mode": "lines",
         "name": "mean",
         "showlegend": false,
         "type": "scatter",
         "x": [
          -30,
          -20,
          -10,
          0,
          10,
          20,
          30
         ],
         "y": [
          -28.106104100004156,
          -18.465967381254156,
          -9.049812154566988,
          0,
          9.465666750644116,
          19.205339553508352,
          28.446256840482672
         ]
        },
        {
         "fill": "tonexty",
         "line": {
          "color": "rgb(217, 234, 245)"
         },
         "mode": "lines",
         "name": "lower bound",
         "showlegend": false,
         "type": "scatter",
         "x": [
          -30,
          -20,
          -10,
          0,
          10,
          20,
          30
         ],
         "y": [
          -31.015348252769304,
          -20.57067401555935,
          -10.613886338801994,
          0,
          7.94321029415025,
          16.816982156474737,
          24.51158953937898
         ]
        },
        {
         "line": {
          "color": "rgb(217, 234, 245)",
          "width": 0.1
         },
         "mode": "lines",
         "name": "lower bound",
         "showlegend": false,
         "type": "scatter",
         "x": [
          -30,
          -20,
          -10,
          0,
          10,
          20,
          30
         ],
         "y": [
          -31.015348252769304,
          -20.57067401555935,
          -10.613886338801994,
          0,
          7.94321029415025,
          16.816982156474737,
          24.51158953937898
         ]
        },
        {
         "line": {
          "color": "rgb(2, 114, 188)",
          "width": 1.5
         },
         "mode": "markers+lines",
         "name": "mean",
         "showlegend": false,
         "type": "scatter",
         "x": [
          -30,
          -20,
          -10,
          0,
          10,
          20,
          30
         ],
         "y": [
          -28.106104100004156,
          -18.465967381254156,
          -9.049812154566988,
          0,
          9.465666750644116,
          19.205339553508352,
          28.446256840482672
         ]
        },
        {
         "line": {
          "color": "black",
          "dash": "dash",
          "width": 1.5
         },
         "mode": "lines",
         "name": "expected",
         "showlegend": false,
         "type": "scatter",
         "x": [
          -30,
          -20,
          -10,
          0,
          10,
          20,
          30
         ],
         "y": [
          -30,
          -20,
          -10,
          0,
          10,
          20,
          30
         ]
        },
        {
         "line": {
          "color": "rgba(234, 153, 153, 128)",
          "width": 0.1
         },
         "mode": "lines",
         "name": "upper bound",
         "showlegend": false,
         "type": "scatter",
         "x": [
          -30,
          -20,
          -10,
          0,
          10,
          20,
          30
         ],
         "xaxis": "x2",
         "y": [
          -12.173685906345046,
          -8.083594528526419,
          -3.258803332168709,
          0,
          10.184116462806347,
          18.97737529564418,
          31.538119561109763
         ],
         "yaxis": "y2"
        },
        {
         "fill": "tonexty",
         "hovertemplate": "Largest predicted horizon shift for MonoDeptch<br> within 1 sigma range: %{y:.2f}px<extra></extra>",
         "line": {
          "color": "rgba(234, 153, 153, 128)"
         },
         "mode": "lines",
         "name": "mean",
         "showlegend": false,
         "type": "scatter",
         "x": [
          -30,
          -20,
          -10,
          0,
          10,
          20,
          30
         ],
         "xaxis": "x2",
         "y": [
          -19.798376103037413,
          -13.914418053381223,
          -7.704869929048204,
          0,
          6.750640357892538,
          13.923173334180694,
          22.81957339257309
         ],
         "yaxis": "y2"
        },
        {
         "fill": "tonexty",
         "line": {
          "color": "rgba(234, 153, 153, 128)"
         },
         "mode": "lines",
         "name": "lower bound",
         "showlegend": false,
         "type": "scatter",
         "x": [
          -30,
          -20,
          -10,
          0,
          10,
          20,
          30
         ],
         "xaxis": "x2",
         "y": [
          -27.42306629972978,
          -19.745241578236026,
          -12.1509365259277,
          0,
          3.317164252978728,
          8.868971372717208,
          14.101027224036418
         ],
         "yaxis": "y2"
        },
        {
         "hovertemplate": "Smallest predicted horizon shift when shifting the horizon by %{x:.2f}px for MonoDeptch<br /> within 1 sigma range: %{y:.2f}px<extra></extra>",
         "line": {
          "color": "rgba(234, 153, 153, 128)",
          "width": 0.1
         },
         "mode": "lines",
         "name": "lower bound",
         "showlegend": false,
         "type": "scatter",
         "x": [
          -30,
          -20,
          -10,
          0,
          10,
          20,
          30
         ],
         "xaxis": "x2",
         "y": [
          -27.42306629972978,
          -19.745241578236026,
          -12.1509365259277,
          0,
          3.317164252978728,
          8.868971372717208,
          14.101027224036418
         ],
         "yaxis": "y2"
        },
        {
         "hovertemplate": "Mean shift in horizon in MonoDeptch<br> predictions by %{y:.2f}px<extra></extra>",
         "line": {
          "color": "rgb(204, 0, 0)",
          "width": 1.5
         },
         "mode": "markers+lines",
         "name": "mean",
         "showlegend": false,
         "type": "scatter",
         "x": [
          -30,
          -20,
          -10,
          0,
          10,
          20,
          30
         ],
         "xaxis": "x2",
         "y": [
          -19.798376103037413,
          -13.914418053381223,
          -7.704869929048204,
          0,
          6.750640357892538,
          13.923173334180694,
          22.81957339257309
         ],
         "yaxis": "y2"
        },
        {
         "hovertemplate": "expected a shift in horizon by %{x}px<extra></extra>",
         "line": {
          "color": "black",
          "dash": "dash",
          "width": 1.5
         },
         "mode": "lines",
         "name": "expected",
         "showlegend": false,
         "type": "scatter",
         "x": [
          -30,
          -20,
          -10,
          0,
          10,
          20,
          30
         ],
         "xaxis": "x2",
         "y": [
          -30,
          -20,
          -10,
          0,
          10,
          20,
          30
         ],
         "yaxis": "y2"
        },
        {
         "line": {
          "color": "rgba(234, 153, 153, 128)",
          "width": 0.1
         },
         "mode": "lines",
         "name": "upper bound",
         "showlegend": false,
         "type": "scatter",
         "x": [
          -30,
          -20,
          -10,
          0,
          10,
          20,
          30
         ],
         "xaxis": "x2",
         "y": [
          -12.173685906345046,
          -8.083594528526419,
          -3.258803332168709,
          0,
          10.184116462806347,
          18.97737529564418,
          31.538119561109763
         ],
         "yaxis": "y2"
        },
        {
         "fill": "tonexty",
         "hovertemplate": "Largest predicted horizon shift for MonoDeptch<br> within 1 sigma range: %{y:.2f}px<extra></extra>",
         "line": {
          "color": "rgba(234, 153, 153, 128)"
         },
         "mode": "lines",
         "name": "mean",
         "showlegend": false,
         "type": "scatter",
         "x": [
          -30,
          -20,
          -10,
          0,
          10,
          20,
          30
         ],
         "xaxis": "x2",
         "y": [
          -19.798376103037413,
          -13.914418053381223,
          -7.704869929048204,
          0,
          6.750640357892538,
          13.923173334180694,
          22.81957339257309
         ],
         "yaxis": "y2"
        },
        {
         "fill": "tonexty",
         "line": {
          "color": "rgba(234, 153, 153, 128)"
         },
         "mode": "lines",
         "name": "lower bound",
         "showlegend": false,
         "type": "scatter",
         "x": [
          -30,
          -20,
          -10,
          0,
          10,
          20,
          30
         ],
         "xaxis": "x2",
         "y": [
          -27.42306629972978,
          -19.745241578236026,
          -12.1509365259277,
          0,
          3.317164252978728,
          8.868971372717208,
          14.101027224036418
         ],
         "yaxis": "y2"
        },
        {
         "hovertemplate": "Smallest predicted horizon shift when shifting the horizon by %{x:.2f}px for MonoDeptch<br /> within 1 sigma range: %{y:.2f}px<extra></extra>",
         "line": {
          "color": "rgba(234, 153, 153, 128)",
          "width": 0.1
         },
         "mode": "lines",
         "name": "lower bound",
         "showlegend": false,
         "type": "scatter",
         "x": [
          -30,
          -20,
          -10,
          0,
          10,
          20,
          30
         ],
         "xaxis": "x2",
         "y": [
          -27.42306629972978,
          -19.745241578236026,
          -12.1509365259277,
          0,
          3.317164252978728,
          8.868971372717208,
          14.101027224036418
         ],
         "yaxis": "y2"
        },
        {
         "hovertemplate": "Mean shift in horizon in MonoDeptch<br> predictions by %{y:.2f}px<extra></extra>",
         "line": {
          "color": "rgb(204, 0, 0)",
          "width": 1.5
         },
         "mode": "markers+lines",
         "name": "mean",
         "showlegend": false,
         "type": "scatter",
         "x": [
          -30,
          -20,
          -10,
          0,
          10,
          20,
          30
         ],
         "xaxis": "x2",
         "y": [
          -19.798376103037413,
          -13.914418053381223,
          -7.704869929048204,
          0,
          6.750640357892538,
          13.923173334180694,
          22.81957339257309
         ],
         "yaxis": "y2"
        },
        {
         "hovertemplate": "expected a shift in horizon by %{x}px<extra></extra>",
         "line": {
          "color": "black",
          "dash": "dash",
          "width": 1.5
         },
         "mode": "lines",
         "name": "expected",
         "showlegend": false,
         "type": "scatter",
         "x": [
          -30,
          -20,
          -10,
          0,
          10,
          20,
          30
         ],
         "xaxis": "x2",
         "y": [
          -30,
          -20,
          -10,
          0,
          10,
          20,
          30
         ],
         "yaxis": "y2"
        },
        {
         "line": {
          "color": "rgba(234, 153, 153, 128)",
          "width": 0.1
         },
         "mode": "lines",
         "name": "upper bound",
         "showlegend": false,
         "type": "scatter",
         "x": [
          -30,
          -20,
          -10,
          0,
          10,
          20,
          30
         ],
         "xaxis": "x2",
         "y": [
          -12.173685906345046,
          -8.083594528526419,
          -3.258803332168709,
          0,
          10.184116462806347,
          18.97737529564418,
          31.538119561109763
         ],
         "yaxis": "y2"
        },
        {
         "fill": "tonexty",
         "hovertemplate": "Largest predicted horizon shift for MonoDeptch<br> within 1 sigma range: %{y:.2f}px<extra></extra>",
         "line": {
          "color": "rgba(234, 153, 153, 128)"
         },
         "mode": "lines",
         "name": "mean",
         "showlegend": false,
         "type": "scatter",
         "x": [
          -30,
          -20,
          -10,
          0,
          10,
          20,
          30
         ],
         "xaxis": "x2",
         "y": [
          -19.798376103037413,
          -13.914418053381223,
          -7.704869929048204,
          0,
          6.750640357892538,
          13.923173334180694,
          22.81957339257309
         ],
         "yaxis": "y2"
        },
        {
         "fill": "tonexty",
         "line": {
          "color": "rgba(234, 153, 153, 128)"
         },
         "mode": "lines",
         "name": "lower bound",
         "showlegend": false,
         "type": "scatter",
         "x": [
          -30,
          -20,
          -10,
          0,
          10,
          20,
          30
         ],
         "xaxis": "x2",
         "y": [
          -27.42306629972978,
          -19.745241578236026,
          -12.1509365259277,
          0,
          3.317164252978728,
          8.868971372717208,
          14.101027224036418
         ],
         "yaxis": "y2"
        },
        {
         "hovertemplate": "Smallest predicted horizon shift when shifting the horizon by %{x:.2f}px for MonoDeptch<br /> within 1 sigma range: %{y:.2f}px<extra></extra>",
         "line": {
          "color": "rgba(234, 153, 153, 128)",
          "width": 0.1
         },
         "mode": "lines",
         "name": "lower bound",
         "showlegend": false,
         "type": "scatter",
         "x": [
          -30,
          -20,
          -10,
          0,
          10,
          20,
          30
         ],
         "xaxis": "x2",
         "y": [
          -27.42306629972978,
          -19.745241578236026,
          -12.1509365259277,
          0,
          3.317164252978728,
          8.868971372717208,
          14.101027224036418
         ],
         "yaxis": "y2"
        },
        {
         "hovertemplate": "Mean shift in horizon in MonoDeptch<br> predictions by %{y:.2f}px<extra></extra>",
         "line": {
          "color": "rgb(204, 0, 0)",
          "width": 1.5
         },
         "mode": "markers+lines",
         "name": "mean",
         "showlegend": false,
         "type": "scatter",
         "x": [
          -30,
          -20,
          -10,
          0,
          10,
          20,
          30
         ],
         "xaxis": "x2",
         "y": [
          -19.798376103037413,
          -13.914418053381223,
          -7.704869929048204,
          0,
          6.750640357892538,
          13.923173334180694,
          22.81957339257309
         ],
         "yaxis": "y2"
        },
        {
         "hovertemplate": "expected a shift in horizon by %{x}px<extra></extra>",
         "line": {
          "color": "black",
          "dash": "dash",
          "width": 1.5
         },
         "mode": "lines",
         "name": "expected",
         "showlegend": false,
         "type": "scatter",
         "x": [
          -30,
          -20,
          -10,
          0,
          10,
          20,
          30
         ],
         "xaxis": "x2",
         "y": [
          -30,
          -20,
          -10,
          0,
          10,
          20,
          30
         ],
         "yaxis": "y2"
        },
        {
         "line": {
          "color": "rgba(234, 153, 153, 128)",
          "width": 0.1
         },
         "mode": "lines",
         "name": "upper bound",
         "showlegend": false,
         "type": "scatter",
         "x": [
          -30,
          -20,
          -10,
          0,
          10,
          20,
          30
         ],
         "xaxis": "x2",
         "y": [
          -12.173685906345046,
          -8.083594528526419,
          -3.258803332168709,
          0,
          10.184116462806347,
          18.97737529564418,
          31.538119561109763
         ],
         "yaxis": "y2"
        },
        {
         "fill": "tonexty",
         "hovertemplate": "Largest predicted horizon shift for MonoDeptch<br> within 1 sigma range: %{y:.2f}px<extra></extra>",
         "line": {
          "color": "rgba(234, 153, 153, 128)"
         },
         "mode": "lines",
         "name": "mean",
         "showlegend": false,
         "type": "scatter",
         "x": [
          -30,
          -20,
          -10,
          0,
          10,
          20,
          30
         ],
         "xaxis": "x2",
         "y": [
          -19.798376103037413,
          -13.914418053381223,
          -7.704869929048204,
          0,
          6.750640357892538,
          13.923173334180694,
          22.81957339257309
         ],
         "yaxis": "y2"
        },
        {
         "fill": "tonexty",
         "line": {
          "color": "rgba(234, 153, 153, 128)"
         },
         "mode": "lines",
         "name": "lower bound",
         "showlegend": false,
         "type": "scatter",
         "x": [
          -30,
          -20,
          -10,
          0,
          10,
          20,
          30
         ],
         "xaxis": "x2",
         "y": [
          -27.42306629972978,
          -19.745241578236026,
          -12.1509365259277,
          0,
          3.317164252978728,
          8.868971372717208,
          14.101027224036418
         ],
         "yaxis": "y2"
        },
        {
         "hovertemplate": "Smallest predicted horizon shift when shifting the horizon by %{x:.2f}px for MonoDeptch<br /> within 1 sigma range: %{y:.2f}px<extra></extra>",
         "line": {
          "color": "rgba(234, 153, 153, 128)",
          "width": 0.1
         },
         "mode": "lines",
         "name": "lower bound",
         "showlegend": false,
         "type": "scatter",
         "x": [
          -30,
          -20,
          -10,
          0,
          10,
          20,
          30
         ],
         "xaxis": "x2",
         "y": [
          -27.42306629972978,
          -19.745241578236026,
          -12.1509365259277,
          0,
          3.317164252978728,
          8.868971372717208,
          14.101027224036418
         ],
         "yaxis": "y2"
        },
        {
         "hovertemplate": "Mean shift in horizon in MonoDeptch<br> predictions by %{y:.2f}px<extra></extra>",
         "line": {
          "color": "rgb(204, 0, 0)",
          "width": 1.5
         },
         "mode": "markers+lines",
         "name": "mean",
         "showlegend": false,
         "type": "scatter",
         "x": [
          -30,
          -20,
          -10,
          0,
          10,
          20,
          30
         ],
         "xaxis": "x2",
         "y": [
          -19.798376103037413,
          -13.914418053381223,
          -7.704869929048204,
          0,
          6.750640357892538,
          13.923173334180694,
          22.81957339257309
         ],
         "yaxis": "y2"
        },
        {
         "hovertemplate": "expected a shift in horizon by %{x}px<extra></extra>",
         "line": {
          "color": "black",
          "dash": "dash",
          "width": 1.5
         },
         "mode": "lines",
         "name": "expected",
         "showlegend": false,
         "type": "scatter",
         "x": [
          -30,
          -20,
          -10,
          0,
          10,
          20,
          30
         ],
         "xaxis": "x2",
         "y": [
          -30,
          -20,
          -10,
          0,
          10,
          20,
          30
         ],
         "yaxis": "y2"
        },
        {
         "line": {
          "color": "rgba(234, 153, 153, 128)",
          "width": 0.1
         },
         "mode": "lines",
         "name": "upper bound",
         "showlegend": false,
         "type": "scatter",
         "x": [
          -30,
          -20,
          -10,
          0,
          10,
          20,
          30
         ],
         "xaxis": "x2",
         "y": [
          -12.173685906345046,
          -8.083594528526419,
          -3.258803332168709,
          0,
          10.184116462806347,
          18.97737529564418,
          31.538119561109763
         ],
         "yaxis": "y2"
        },
        {
         "fill": "tonexty",
         "hovertemplate": "Largest predicted horizon shift for MonoDeptch<br> within 1 sigma range: %{y:.2f}px<extra></extra>",
         "line": {
          "color": "rgba(234, 153, 153, 128)"
         },
         "mode": "lines",
         "name": "mean",
         "showlegend": false,
         "type": "scatter",
         "x": [
          -30,
          -20,
          -10,
          0,
          10,
          20,
          30
         ],
         "xaxis": "x2",
         "y": [
          -19.798376103037413,
          -13.914418053381223,
          -7.704869929048204,
          0,
          6.750640357892538,
          13.923173334180694,
          22.81957339257309
         ],
         "yaxis": "y2"
        },
        {
         "fill": "tonexty",
         "line": {
          "color": "rgba(234, 153, 153, 128)"
         },
         "mode": "lines",
         "name": "lower bound",
         "showlegend": false,
         "type": "scatter",
         "x": [
          -30,
          -20,
          -10,
          0,
          10,
          20,
          30
         ],
         "xaxis": "x2",
         "y": [
          -27.42306629972978,
          -19.745241578236026,
          -12.1509365259277,
          0,
          3.317164252978728,
          8.868971372717208,
          14.101027224036418
         ],
         "yaxis": "y2"
        },
        {
         "hovertemplate": "Smallest predicted horizon shift when shifting the horizon by %{x:.2f}px for MonoDeptch<br /> within 1 sigma range: %{y:.2f}px<extra></extra>",
         "line": {
          "color": "rgba(234, 153, 153, 128)",
          "width": 0.1
         },
         "mode": "lines",
         "name": "lower bound",
         "showlegend": false,
         "type": "scatter",
         "x": [
          -30,
          -20,
          -10,
          0,
          10,
          20,
          30
         ],
         "xaxis": "x2",
         "y": [
          -27.42306629972978,
          -19.745241578236026,
          -12.1509365259277,
          0,
          3.317164252978728,
          8.868971372717208,
          14.101027224036418
         ],
         "yaxis": "y2"
        },
        {
         "hovertemplate": "Mean shift in horizon in MonoDeptch<br> predictions by %{y:.2f}px<extra></extra>",
         "line": {
          "color": "rgb(204, 0, 0)",
          "width": 1.5
         },
         "mode": "markers+lines",
         "name": "mean",
         "showlegend": false,
         "type": "scatter",
         "x": [
          -30,
          -20,
          -10,
          0,
          10,
          20,
          30
         ],
         "xaxis": "x2",
         "y": [
          -19.798376103037413,
          -13.914418053381223,
          -7.704869929048204,
          0,
          6.750640357892538,
          13.923173334180694,
          22.81957339257309
         ],
         "yaxis": "y2"
        },
        {
         "hovertemplate": "expected a shift in horizon by %{x}px<extra></extra>",
         "line": {
          "color": "black",
          "dash": "dash",
          "width": 1.5
         },
         "mode": "lines",
         "name": "expected",
         "showlegend": false,
         "type": "scatter",
         "x": [
          -30,
          -20,
          -10,
          0,
          10,
          20,
          30
         ],
         "xaxis": "x2",
         "y": [
          -30,
          -20,
          -10,
          0,
          10,
          20,
          30
         ],
         "yaxis": "y2"
        },
        {
         "line": {
          "color": "rgba(234, 153, 153, 128)",
          "width": 0.1
         },
         "mode": "lines",
         "name": "upper bound",
         "showlegend": false,
         "type": "scatter",
         "x": [
          -30,
          -20,
          -10,
          0,
          10,
          20,
          30
         ],
         "xaxis": "x2",
         "y": [
          -12.173685906345046,
          -8.083594528526419,
          -3.258803332168709,
          0,
          10.184116462806347,
          18.97737529564418,
          31.538119561109763
         ],
         "yaxis": "y2"
        },
        {
         "fill": "tonexty",
         "hovertemplate": "Largest predicted horizon shift for MonoDeptch<br> within 1 sigma range: %{y:.2f}px<extra></extra>",
         "line": {
          "color": "rgba(234, 153, 153, 128)"
         },
         "mode": "lines",
         "name": "mean",
         "showlegend": false,
         "type": "scatter",
         "x": [
          -30,
          -20,
          -10,
          0,
          10,
          20,
          30
         ],
         "xaxis": "x2",
         "y": [
          -19.798376103037413,
          -13.914418053381223,
          -7.704869929048204,
          0,
          6.750640357892538,
          13.923173334180694,
          22.81957339257309
         ],
         "yaxis": "y2"
        },
        {
         "fill": "tonexty",
         "line": {
          "color": "rgba(234, 153, 153, 128)"
         },
         "mode": "lines",
         "name": "lower bound",
         "showlegend": false,
         "type": "scatter",
         "x": [
          -30,
          -20,
          -10,
          0,
          10,
          20,
          30
         ],
         "xaxis": "x2",
         "y": [
          -27.42306629972978,
          -19.745241578236026,
          -12.1509365259277,
          0,
          3.317164252978728,
          8.868971372717208,
          14.101027224036418
         ],
         "yaxis": "y2"
        },
        {
         "hovertemplate": "Smallest predicted horizon shift when shifting the horizon by %{x:.2f}px for MonoDeptch<br /> within 1 sigma range: %{y:.2f}px<extra></extra>",
         "line": {
          "color": "rgba(234, 153, 153, 128)",
          "width": 0.1
         },
         "mode": "lines",
         "name": "lower bound",
         "showlegend": false,
         "type": "scatter",
         "x": [
          -30,
          -20,
          -10,
          0,
          10,
          20,
          30
         ],
         "xaxis": "x2",
         "y": [
          -27.42306629972978,
          -19.745241578236026,
          -12.1509365259277,
          0,
          3.317164252978728,
          8.868971372717208,
          14.101027224036418
         ],
         "yaxis": "y2"
        },
        {
         "hovertemplate": "Mean shift in horizon in MonoDeptch<br> predictions by %{y:.2f}px<extra></extra>",
         "line": {
          "color": "rgb(204, 0, 0)",
          "width": 1.5
         },
         "mode": "markers+lines",
         "name": "mean",
         "showlegend": false,
         "type": "scatter",
         "x": [
          -30,
          -20,
          -10,
          0,
          10,
          20,
          30
         ],
         "xaxis": "x2",
         "y": [
          -19.798376103037413,
          -13.914418053381223,
          -7.704869929048204,
          0,
          6.750640357892538,
          13.923173334180694,
          22.81957339257309
         ],
         "yaxis": "y2"
        },
        {
         "hovertemplate": "expected a shift in horizon by %{x}px<extra></extra>",
         "line": {
          "color": "black",
          "dash": "dash",
          "width": 1.5
         },
         "mode": "lines",
         "name": "expected",
         "showlegend": false,
         "type": "scatter",
         "x": [
          -30,
          -20,
          -10,
          0,
          10,
          20,
          30
         ],
         "xaxis": "x2",
         "y": [
          -30,
          -20,
          -10,
          0,
          10,
          20,
          30
         ],
         "yaxis": "y2"
        },
        {
         "line": {
          "color": "rgba(234, 153, 153, 128)",
          "width": 0.1
         },
         "mode": "lines",
         "name": "upper bound",
         "showlegend": false,
         "type": "scatter",
         "x": [
          -30,
          -20,
          -10,
          0,
          10,
          20,
          30
         ],
         "xaxis": "x2",
         "y": [
          -12.173685906345046,
          -8.083594528526419,
          -3.258803332168709,
          0,
          10.184116462806347,
          18.97737529564418,
          31.538119561109763
         ],
         "yaxis": "y2"
        },
        {
         "fill": "tonexty",
         "hovertemplate": "Largest predicted horizon shift for MonoDeptch<br> within 1 sigma range: %{y:.2f}px<extra></extra>",
         "line": {
          "color": "rgba(234, 153, 153, 128)"
         },
         "mode": "lines",
         "name": "mean",
         "showlegend": false,
         "type": "scatter",
         "x": [
          -30,
          -20,
          -10,
          0,
          10,
          20,
          30
         ],
         "xaxis": "x2",
         "y": [
          -19.798376103037413,
          -13.914418053381223,
          -7.704869929048204,
          0,
          6.750640357892538,
          13.923173334180694,
          22.81957339257309
         ],
         "yaxis": "y2"
        },
        {
         "fill": "tonexty",
         "line": {
          "color": "rgba(234, 153, 153, 128)"
         },
         "mode": "lines",
         "name": "lower bound",
         "showlegend": false,
         "type": "scatter",
         "x": [
          -30,
          -20,
          -10,
          0,
          10,
          20,
          30
         ],
         "xaxis": "x2",
         "y": [
          -27.42306629972978,
          -19.745241578236026,
          -12.1509365259277,
          0,
          3.317164252978728,
          8.868971372717208,
          14.101027224036418
         ],
         "yaxis": "y2"
        },
        {
         "hovertemplate": "Smallest predicted horizon shift when shifting the horizon by %{x:.2f}px for MonoDeptch<br /> within 1 sigma range: %{y:.2f}px<extra></extra>",
         "line": {
          "color": "rgba(234, 153, 153, 128)",
          "width": 0.1
         },
         "mode": "lines",
         "name": "lower bound",
         "showlegend": false,
         "type": "scatter",
         "x": [
          -30,
          -20,
          -10,
          0,
          10,
          20,
          30
         ],
         "xaxis": "x2",
         "y": [
          -27.42306629972978,
          -19.745241578236026,
          -12.1509365259277,
          0,
          3.317164252978728,
          8.868971372717208,
          14.101027224036418
         ],
         "yaxis": "y2"
        },
        {
         "hovertemplate": "Mean shift in horizon in MonoDeptch<br> predictions by %{y:.2f}px<extra></extra>",
         "line": {
          "color": "rgb(204, 0, 0)",
          "width": 1.5
         },
         "mode": "markers+lines",
         "name": "mean",
         "showlegend": false,
         "type": "scatter",
         "x": [
          -30,
          -20,
          -10,
          0,
          10,
          20,
          30
         ],
         "xaxis": "x2",
         "y": [
          -19.798376103037413,
          -13.914418053381223,
          -7.704869929048204,
          0,
          6.750640357892538,
          13.923173334180694,
          22.81957339257309
         ],
         "yaxis": "y2"
        },
        {
         "hovertemplate": "expected a shift in horizon by %{x}px<extra></extra>",
         "line": {
          "color": "black",
          "dash": "dash",
          "width": 1.5
         },
         "mode": "lines",
         "name": "expected",
         "showlegend": false,
         "type": "scatter",
         "x": [
          -30,
          -20,
          -10,
          0,
          10,
          20,
          30
         ],
         "xaxis": "x2",
         "y": [
          -30,
          -20,
          -10,
          0,
          10,
          20,
          30
         ],
         "yaxis": "y2"
        }
       ],
       "layout": {
        "annotations": [
         {
          "font": {
           "size": 16
          },
          "showarrow": false,
          "text": "DPT Pitch",
          "x": 0.225,
          "xanchor": "center",
          "xref": "paper",
          "y": 1,
          "yanchor": "bottom",
          "yref": "paper"
         },
         {
          "font": {
           "size": 16
          },
          "showarrow": false,
          "text": "MonoDepth Pitch",
          "x": 0.775,
          "xanchor": "center",
          "xref": "paper",
          "y": 1,
          "yanchor": "bottom",
          "yref": "paper"
         }
        ],
        "height": 500,
        "plot_bgcolor": "rgba(0,0,0,0)",
        "template": {
         "data": {
          "bar": [
           {
            "error_x": {
             "color": "#2a3f5f"
            },
            "error_y": {
             "color": "#2a3f5f"
            },
            "marker": {
             "line": {
              "color": "#E5ECF6",
              "width": 0.5
             },
             "pattern": {
              "fillmode": "overlay",
              "size": 10,
              "solidity": 0.2
             }
            },
            "type": "bar"
           }
          ],
          "barpolar": [
           {
            "marker": {
             "line": {
              "color": "#E5ECF6",
              "width": 0.5
             },
             "pattern": {
              "fillmode": "overlay",
              "size": 10,
              "solidity": 0.2
             }
            },
            "type": "barpolar"
           }
          ],
          "carpet": [
           {
            "aaxis": {
             "endlinecolor": "#2a3f5f",
             "gridcolor": "white",
             "linecolor": "white",
             "minorgridcolor": "white",
             "startlinecolor": "#2a3f5f"
            },
            "baxis": {
             "endlinecolor": "#2a3f5f",
             "gridcolor": "white",
             "linecolor": "white",
             "minorgridcolor": "white",
             "startlinecolor": "#2a3f5f"
            },
            "type": "carpet"
           }
          ],
          "choropleth": [
           {
            "colorbar": {
             "outlinewidth": 0,
             "ticks": ""
            },
            "type": "choropleth"
           }
          ],
          "contour": [
           {
            "colorbar": {
             "outlinewidth": 0,
             "ticks": ""
            },
            "colorscale": [
             [
              0,
              "#0d0887"
             ],
             [
              0.1111111111111111,
              "#46039f"
             ],
             [
              0.2222222222222222,
              "#7201a8"
             ],
             [
              0.3333333333333333,
              "#9c179e"
             ],
             [
              0.4444444444444444,
              "#bd3786"
             ],
             [
              0.5555555555555556,
              "#d8576b"
             ],
             [
              0.6666666666666666,
              "#ed7953"
             ],
             [
              0.7777777777777778,
              "#fb9f3a"
             ],
             [
              0.8888888888888888,
              "#fdca26"
             ],
             [
              1,
              "#f0f921"
             ]
            ],
            "type": "contour"
           }
          ],
          "contourcarpet": [
           {
            "colorbar": {
             "outlinewidth": 0,
             "ticks": ""
            },
            "type": "contourcarpet"
           }
          ],
          "heatmap": [
           {
            "colorbar": {
             "outlinewidth": 0,
             "ticks": ""
            },
            "colorscale": [
             [
              0,
              "#0d0887"
             ],
             [
              0.1111111111111111,
              "#46039f"
             ],
             [
              0.2222222222222222,
              "#7201a8"
             ],
             [
              0.3333333333333333,
              "#9c179e"
             ],
             [
              0.4444444444444444,
              "#bd3786"
             ],
             [
              0.5555555555555556,
              "#d8576b"
             ],
             [
              0.6666666666666666,
              "#ed7953"
             ],
             [
              0.7777777777777778,
              "#fb9f3a"
             ],
             [
              0.8888888888888888,
              "#fdca26"
             ],
             [
              1,
              "#f0f921"
             ]
            ],
            "type": "heatmap"
           }
          ],
          "heatmapgl": [
           {
            "colorbar": {
             "outlinewidth": 0,
             "ticks": ""
            },
            "colorscale": [
             [
              0,
              "#0d0887"
             ],
             [
              0.1111111111111111,
              "#46039f"
             ],
             [
              0.2222222222222222,
              "#7201a8"
             ],
             [
              0.3333333333333333,
              "#9c179e"
             ],
             [
              0.4444444444444444,
              "#bd3786"
             ],
             [
              0.5555555555555556,
              "#d8576b"
             ],
             [
              0.6666666666666666,
              "#ed7953"
             ],
             [
              0.7777777777777778,
              "#fb9f3a"
             ],
             [
              0.8888888888888888,
              "#fdca26"
             ],
             [
              1,
              "#f0f921"
             ]
            ],
            "type": "heatmapgl"
           }
          ],
          "histogram": [
           {
            "marker": {
             "pattern": {
              "fillmode": "overlay",
              "size": 10,
              "solidity": 0.2
             }
            },
            "type": "histogram"
           }
          ],
          "histogram2d": [
           {
            "colorbar": {
             "outlinewidth": 0,
             "ticks": ""
            },
            "colorscale": [
             [
              0,
              "#0d0887"
             ],
             [
              0.1111111111111111,
              "#46039f"
             ],
             [
              0.2222222222222222,
              "#7201a8"
             ],
             [
              0.3333333333333333,
              "#9c179e"
             ],
             [
              0.4444444444444444,
              "#bd3786"
             ],
             [
              0.5555555555555556,
              "#d8576b"
             ],
             [
              0.6666666666666666,
              "#ed7953"
             ],
             [
              0.7777777777777778,
              "#fb9f3a"
             ],
             [
              0.8888888888888888,
              "#fdca26"
             ],
             [
              1,
              "#f0f921"
             ]
            ],
            "type": "histogram2d"
           }
          ],
          "histogram2dcontour": [
           {
            "colorbar": {
             "outlinewidth": 0,
             "ticks": ""
            },
            "colorscale": [
             [
              0,
              "#0d0887"
             ],
             [
              0.1111111111111111,
              "#46039f"
             ],
             [
              0.2222222222222222,
              "#7201a8"
             ],
             [
              0.3333333333333333,
              "#9c179e"
             ],
             [
              0.4444444444444444,
              "#bd3786"
             ],
             [
              0.5555555555555556,
              "#d8576b"
             ],
             [
              0.6666666666666666,
              "#ed7953"
             ],
             [
              0.7777777777777778,
              "#fb9f3a"
             ],
             [
              0.8888888888888888,
              "#fdca26"
             ],
             [
              1,
              "#f0f921"
             ]
            ],
            "type": "histogram2dcontour"
           }
          ],
          "mesh3d": [
           {
            "colorbar": {
             "outlinewidth": 0,
             "ticks": ""
            },
            "type": "mesh3d"
           }
          ],
          "parcoords": [
           {
            "line": {
             "colorbar": {
              "outlinewidth": 0,
              "ticks": ""
             }
            },
            "type": "parcoords"
           }
          ],
          "pie": [
           {
            "automargin": true,
            "type": "pie"
           }
          ],
          "scatter": [
           {
            "fillpattern": {
             "fillmode": "overlay",
             "size": 10,
             "solidity": 0.2
            },
            "type": "scatter"
           }
          ],
          "scatter3d": [
           {
            "line": {
             "colorbar": {
              "outlinewidth": 0,
              "ticks": ""
             }
            },
            "marker": {
             "colorbar": {
              "outlinewidth": 0,
              "ticks": ""
             }
            },
            "type": "scatter3d"
           }
          ],
          "scattercarpet": [
           {
            "marker": {
             "colorbar": {
              "outlinewidth": 0,
              "ticks": ""
             }
            },
            "type": "scattercarpet"
           }
          ],
          "scattergeo": [
           {
            "marker": {
             "colorbar": {
              "outlinewidth": 0,
              "ticks": ""
             }
            },
            "type": "scattergeo"
           }
          ],
          "scattergl": [
           {
            "marker": {
             "colorbar": {
              "outlinewidth": 0,
              "ticks": ""
             }
            },
            "type": "scattergl"
           }
          ],
          "scattermapbox": [
           {
            "marker": {
             "colorbar": {
              "outlinewidth": 0,
              "ticks": ""
             }
            },
            "type": "scattermapbox"
           }
          ],
          "scatterpolar": [
           {
            "marker": {
             "colorbar": {
              "outlinewidth": 0,
              "ticks": ""
             }
            },
            "type": "scatterpolar"
           }
          ],
          "scatterpolargl": [
           {
            "marker": {
             "colorbar": {
              "outlinewidth": 0,
              "ticks": ""
             }
            },
            "type": "scatterpolargl"
           }
          ],
          "scatterternary": [
           {
            "marker": {
             "colorbar": {
              "outlinewidth": 0,
              "ticks": ""
             }
            },
            "type": "scatterternary"
           }
          ],
          "surface": [
           {
            "colorbar": {
             "outlinewidth": 0,
             "ticks": ""
            },
            "colorscale": [
             [
              0,
              "#0d0887"
             ],
             [
              0.1111111111111111,
              "#46039f"
             ],
             [
              0.2222222222222222,
              "#7201a8"
             ],
             [
              0.3333333333333333,
              "#9c179e"
             ],
             [
              0.4444444444444444,
              "#bd3786"
             ],
             [
              0.5555555555555556,
              "#d8576b"
             ],
             [
              0.6666666666666666,
              "#ed7953"
             ],
             [
              0.7777777777777778,
              "#fb9f3a"
             ],
             [
              0.8888888888888888,
              "#fdca26"
             ],
             [
              1,
              "#f0f921"
             ]
            ],
            "type": "surface"
           }
          ],
          "table": [
           {
            "cells": {
             "fill": {
              "color": "#EBF0F8"
             },
             "line": {
              "color": "white"
             }
            },
            "header": {
             "fill": {
              "color": "#C8D4E3"
             },
             "line": {
              "color": "white"
             }
            },
            "type": "table"
           }
          ]
         },
         "layout": {
          "annotationdefaults": {
           "arrowcolor": "#2a3f5f",
           "arrowhead": 0,
           "arrowwidth": 1
          },
          "autotypenumbers": "strict",
          "coloraxis": {
           "colorbar": {
            "outlinewidth": 0,
            "ticks": ""
           }
          },
          "colorscale": {
           "diverging": [
            [
             0,
             "#8e0152"
            ],
            [
             0.1,
             "#c51b7d"
            ],
            [
             0.2,
             "#de77ae"
            ],
            [
             0.3,
             "#f1b6da"
            ],
            [
             0.4,
             "#fde0ef"
            ],
            [
             0.5,
             "#f7f7f7"
            ],
            [
             0.6,
             "#e6f5d0"
            ],
            [
             0.7,
             "#b8e186"
            ],
            [
             0.8,
             "#7fbc41"
            ],
            [
             0.9,
             "#4d9221"
            ],
            [
             1,
             "#276419"
            ]
           ],
           "sequential": [
            [
             0,
             "#0d0887"
            ],
            [
             0.1111111111111111,
             "#46039f"
            ],
            [
             0.2222222222222222,
             "#7201a8"
            ],
            [
             0.3333333333333333,
             "#9c179e"
            ],
            [
             0.4444444444444444,
             "#bd3786"
            ],
            [
             0.5555555555555556,
             "#d8576b"
            ],
            [
             0.6666666666666666,
             "#ed7953"
            ],
            [
             0.7777777777777778,
             "#fb9f3a"
            ],
            [
             0.8888888888888888,
             "#fdca26"
            ],
            [
             1,
             "#f0f921"
            ]
           ],
           "sequentialminus": [
            [
             0,
             "#0d0887"
            ],
            [
             0.1111111111111111,
             "#46039f"
            ],
            [
             0.2222222222222222,
             "#7201a8"
            ],
            [
             0.3333333333333333,
             "#9c179e"
            ],
            [
             0.4444444444444444,
             "#bd3786"
            ],
            [
             0.5555555555555556,
             "#d8576b"
            ],
            [
             0.6666666666666666,
             "#ed7953"
            ],
            [
             0.7777777777777778,
             "#fb9f3a"
            ],
            [
             0.8888888888888888,
             "#fdca26"
            ],
            [
             1,
             "#f0f921"
            ]
           ]
          },
          "colorway": [
           "#636efa",
           "#EF553B",
           "#00cc96",
           "#ab63fa",
           "#FFA15A",
           "#19d3f3",
           "#FF6692",
           "#B6E880",
           "#FF97FF",
           "#FECB52"
          ],
          "font": {
           "color": "#2a3f5f"
          },
          "geo": {
           "bgcolor": "white",
           "lakecolor": "white",
           "landcolor": "#E5ECF6",
           "showlakes": true,
           "showland": true,
           "subunitcolor": "white"
          },
          "hoverlabel": {
           "align": "left"
          },
          "hovermode": "closest",
          "mapbox": {
           "style": "light"
          },
          "paper_bgcolor": "white",
          "plot_bgcolor": "#E5ECF6",
          "polar": {
           "angularaxis": {
            "gridcolor": "white",
            "linecolor": "white",
            "ticks": ""
           },
           "bgcolor": "#E5ECF6",
           "radialaxis": {
            "gridcolor": "white",
            "linecolor": "white",
            "ticks": ""
           }
          },
          "scene": {
           "xaxis": {
            "backgroundcolor": "#E5ECF6",
            "gridcolor": "white",
            "gridwidth": 2,
            "linecolor": "white",
            "showbackground": true,
            "ticks": "",
            "zerolinecolor": "white"
           },
           "yaxis": {
            "backgroundcolor": "#E5ECF6",
            "gridcolor": "white",
            "gridwidth": 2,
            "linecolor": "white",
            "showbackground": true,
            "ticks": "",
            "zerolinecolor": "white"
           },
           "zaxis": {
            "backgroundcolor": "#E5ECF6",
            "gridcolor": "white",
            "gridwidth": 2,
            "linecolor": "white",
            "showbackground": true,
            "ticks": "",
            "zerolinecolor": "white"
           }
          },
          "shapedefaults": {
           "line": {
            "color": "#2a3f5f"
           }
          },
          "ternary": {
           "aaxis": {
            "gridcolor": "white",
            "linecolor": "white",
            "ticks": ""
           },
           "baxis": {
            "gridcolor": "white",
            "linecolor": "white",
            "ticks": ""
           },
           "bgcolor": "#E5ECF6",
           "caxis": {
            "gridcolor": "white",
            "linecolor": "white",
            "ticks": ""
           }
          },
          "title": {
           "x": 0.05
          },
          "xaxis": {
           "automargin": true,
           "gridcolor": "white",
           "linecolor": "white",
           "ticks": "",
           "title": {
            "standoff": 15
           },
           "zerolinecolor": "white",
           "zerolinewidth": 2
          },
          "yaxis": {
           "automargin": true,
           "gridcolor": "white",
           "linecolor": "white",
           "ticks": "",
           "title": {
            "standoff": 15
           },
           "zerolinecolor": "white",
           "zerolinewidth": 2
          }
         }
        },
        "title": {
         "text": "True and Estimated Shifts in Horizon Levels after Cropping the KITTI Images",
         "x": 0.5
        },
        "width": 950,
        "xaxis": {
         "anchor": "y",
         "domain": [
          0,
          0.45
         ],
         "dtick": 10,
         "gridcolor": "black",
         "linecolor": "gray",
         "linewidth": 1,
         "range": [
          -32,
          32
         ],
         "showline": true,
         "tick0": -30,
         "tickmode": "linear",
         "title": {
          "text": "True horizon shift [px]"
         },
         "zeroline": true,
         "zerolinecolor": "gray",
         "zerolinewidth": 1
        },
        "xaxis2": {
         "anchor": "y2",
         "domain": [
          0.55,
          1
         ],
         "dtick": 10,
         "gridcolor": "black",
         "linecolor": "gray",
         "linewidth": 1,
         "range": [
          -32,
          32
         ],
         "showline": true,
         "tick0": -30,
         "title": {
          "text": "True horizon shift [px]"
         },
         "zeroline": true,
         "zerolinecolor": "gray",
         "zerolinewidth": 1
        },
        "yaxis": {
         "anchor": "x",
         "domain": [
          0,
          1
         ],
         "dtick": 10,
         "gridcolor": "black",
         "linecolor": "gray",
         "linewidth": 1,
         "range": [
          -32,
          32
         ],
         "showline": true,
         "tick0": -30,
         "title": {
          "text": "Horizon shift in depth map [px]"
         },
         "zeroline": true,
         "zerolinecolor": "gray",
         "zerolinewidth": 1
        },
        "yaxis2": {
         "anchor": "x2",
         "domain": [
          0,
          1
         ],
         "dtick": 10,
         "gridcolor": "black",
         "linecolor": "gray",
         "linewidth": 1,
         "range": [
          -32,
          32
         ],
         "showline": true,
         "tick0": -30,
         "title": {
          "text": "Horizon shift in depth map [px]"
         },
         "zeroline": true,
         "zerolinecolor": "gray",
         "zerolinewidth": 1
        }
       }
      },
      "text/html": [
       "<div>                            <div id=\"50d7485c-40f2-426d-9a89-15861f596d38\" class=\"plotly-graph-div\" style=\"height:500px; width:950px;\"></div>            <script type=\"text/javascript\">                require([\"plotly\"], function(Plotly) {                    window.PLOTLYENV=window.PLOTLYENV || {};                                    if (document.getElementById(\"50d7485c-40f2-426d-9a89-15861f596d38\")) {                    Plotly.newPlot(                        \"50d7485c-40f2-426d-9a89-15861f596d38\",                        [{\"line\":{\"color\":\"rgb(217, 234, 245)\",\"width\":0.1},\"mode\":\"lines\",\"name\":\"upper bound\",\"showlegend\":false,\"x\":[-30,-20,-10,0,10,20,30],\"y\":[-25.19685994723901,-16.36126074694896,-7.485737970331982,0.0,10.988123207137983,21.59369695054197,32.38092414158636],\"type\":\"scatter\"},{\"fill\":\"tonexty\",\"line\":{\"color\":\"rgb(217, 234, 245)\"},\"mode\":\"lines\",\"name\":\"mean\",\"showlegend\":false,\"x\":[-30,-20,-10,0,10,20,30],\"y\":[-28.106104100004156,-18.465967381254156,-9.049812154566988,0.0,9.465666750644116,19.205339553508352,28.446256840482672],\"type\":\"scatter\"},{\"fill\":\"tonexty\",\"line\":{\"color\":\"rgb(217, 234, 245)\"},\"mode\":\"lines\",\"name\":\"lower bound\",\"showlegend\":false,\"x\":[-30,-20,-10,0,10,20,30],\"y\":[-31.015348252769304,-20.57067401555935,-10.613886338801994,0.0,7.94321029415025,16.816982156474737,24.51158953937898],\"type\":\"scatter\"},{\"line\":{\"color\":\"rgb(217, 234, 245)\",\"width\":0.1},\"mode\":\"lines\",\"name\":\"lower bound\",\"showlegend\":false,\"x\":[-30,-20,-10,0,10,20,30],\"y\":[-31.015348252769304,-20.57067401555935,-10.613886338801994,0.0,7.94321029415025,16.816982156474737,24.51158953937898],\"type\":\"scatter\"},{\"line\":{\"color\":\"rgb(2, 114, 188)\",\"width\":1.5},\"mode\":\"markers+lines\",\"name\":\"mean\",\"showlegend\":false,\"x\":[-30,-20,-10,0,10,20,30],\"y\":[-28.106104100004156,-18.465967381254156,-9.049812154566988,0.0,9.465666750644116,19.205339553508352,28.446256840482672],\"type\":\"scatter\"},{\"line\":{\"color\":\"black\",\"dash\":\"dash\",\"width\":1.5},\"mode\":\"lines\",\"name\":\"expected\",\"showlegend\":false,\"x\":[-30,-20,-10,0,10,20,30],\"y\":[-30,-20,-10,0,10,20,30],\"type\":\"scatter\"},{\"line\":{\"color\":\"rgb(217, 234, 245)\",\"width\":0.1},\"mode\":\"lines\",\"name\":\"upper bound\",\"showlegend\":false,\"x\":[-30,-20,-10,0,10,20,30],\"y\":[-25.19685994723901,-16.36126074694896,-7.485737970331982,0.0,10.988123207137983,21.59369695054197,32.38092414158636],\"type\":\"scatter\"},{\"fill\":\"tonexty\",\"line\":{\"color\":\"rgb(217, 234, 245)\"},\"mode\":\"lines\",\"name\":\"mean\",\"showlegend\":false,\"x\":[-30,-20,-10,0,10,20,30],\"y\":[-28.106104100004156,-18.465967381254156,-9.049812154566988,0.0,9.465666750644116,19.205339553508352,28.446256840482672],\"type\":\"scatter\"},{\"fill\":\"tonexty\",\"line\":{\"color\":\"rgb(217, 234, 245)\"},\"mode\":\"lines\",\"name\":\"lower bound\",\"showlegend\":false,\"x\":[-30,-20,-10,0,10,20,30],\"y\":[-31.015348252769304,-20.57067401555935,-10.613886338801994,0.0,7.94321029415025,16.816982156474737,24.51158953937898],\"type\":\"scatter\"},{\"line\":{\"color\":\"rgb(217, 234, 245)\",\"width\":0.1},\"mode\":\"lines\",\"name\":\"lower bound\",\"showlegend\":false,\"x\":[-30,-20,-10,0,10,20,30],\"y\":[-31.015348252769304,-20.57067401555935,-10.613886338801994,0.0,7.94321029415025,16.816982156474737,24.51158953937898],\"type\":\"scatter\"},{\"line\":{\"color\":\"rgb(2, 114, 188)\",\"width\":1.5},\"mode\":\"markers+lines\",\"name\":\"mean\",\"showlegend\":false,\"x\":[-30,-20,-10,0,10,20,30],\"y\":[-28.106104100004156,-18.465967381254156,-9.049812154566988,0.0,9.465666750644116,19.205339553508352,28.446256840482672],\"type\":\"scatter\"},{\"line\":{\"color\":\"black\",\"dash\":\"dash\",\"width\":1.5},\"mode\":\"lines\",\"name\":\"expected\",\"showlegend\":false,\"x\":[-30,-20,-10,0,10,20,30],\"y\":[-30,-20,-10,0,10,20,30],\"type\":\"scatter\"},{\"line\":{\"color\":\"rgb(217, 234, 245)\",\"width\":0.1},\"mode\":\"lines\",\"name\":\"upper bound\",\"showlegend\":false,\"x\":[-30,-20,-10,0,10,20,30],\"y\":[-25.19685994723901,-16.36126074694896,-7.485737970331982,0.0,10.988123207137983,21.59369695054197,32.38092414158636],\"type\":\"scatter\"},{\"fill\":\"tonexty\",\"line\":{\"color\":\"rgb(217, 234, 245)\"},\"mode\":\"lines\",\"name\":\"mean\",\"showlegend\":false,\"x\":[-30,-20,-10,0,10,20,30],\"y\":[-28.106104100004156,-18.465967381254156,-9.049812154566988,0.0,9.465666750644116,19.205339553508352,28.446256840482672],\"type\":\"scatter\"},{\"fill\":\"tonexty\",\"line\":{\"color\":\"rgb(217, 234, 245)\"},\"mode\":\"lines\",\"name\":\"lower bound\",\"showlegend\":false,\"x\":[-30,-20,-10,0,10,20,30],\"y\":[-31.015348252769304,-20.57067401555935,-10.613886338801994,0.0,7.94321029415025,16.816982156474737,24.51158953937898],\"type\":\"scatter\"},{\"line\":{\"color\":\"rgb(217, 234, 245)\",\"width\":0.1},\"mode\":\"lines\",\"name\":\"lower bound\",\"showlegend\":false,\"x\":[-30,-20,-10,0,10,20,30],\"y\":[-31.015348252769304,-20.57067401555935,-10.613886338801994,0.0,7.94321029415025,16.816982156474737,24.51158953937898],\"type\":\"scatter\"},{\"line\":{\"color\":\"rgb(2, 114, 188)\",\"width\":1.5},\"mode\":\"markers+lines\",\"name\":\"mean\",\"showlegend\":false,\"x\":[-30,-20,-10,0,10,20,30],\"y\":[-28.106104100004156,-18.465967381254156,-9.049812154566988,0.0,9.465666750644116,19.205339553508352,28.446256840482672],\"type\":\"scatter\"},{\"line\":{\"color\":\"black\",\"dash\":\"dash\",\"width\":1.5},\"mode\":\"lines\",\"name\":\"expected\",\"showlegend\":false,\"x\":[-30,-20,-10,0,10,20,30],\"y\":[-30,-20,-10,0,10,20,30],\"type\":\"scatter\"},{\"line\":{\"color\":\"rgb(217, 234, 245)\",\"width\":0.1},\"mode\":\"lines\",\"name\":\"upper bound\",\"showlegend\":false,\"x\":[-30,-20,-10,0,10,20,30],\"y\":[-25.19685994723901,-16.36126074694896,-7.485737970331982,0.0,10.988123207137983,21.59369695054197,32.38092414158636],\"type\":\"scatter\"},{\"fill\":\"tonexty\",\"line\":{\"color\":\"rgb(217, 234, 245)\"},\"mode\":\"lines\",\"name\":\"mean\",\"showlegend\":false,\"x\":[-30,-20,-10,0,10,20,30],\"y\":[-28.106104100004156,-18.465967381254156,-9.049812154566988,0.0,9.465666750644116,19.205339553508352,28.446256840482672],\"type\":\"scatter\"},{\"fill\":\"tonexty\",\"line\":{\"color\":\"rgb(217, 234, 245)\"},\"mode\":\"lines\",\"name\":\"lower bound\",\"showlegend\":false,\"x\":[-30,-20,-10,0,10,20,30],\"y\":[-31.015348252769304,-20.57067401555935,-10.613886338801994,0.0,7.94321029415025,16.816982156474737,24.51158953937898],\"type\":\"scatter\"},{\"line\":{\"color\":\"rgb(217, 234, 245)\",\"width\":0.1},\"mode\":\"lines\",\"name\":\"lower bound\",\"showlegend\":false,\"x\":[-30,-20,-10,0,10,20,30],\"y\":[-31.015348252769304,-20.57067401555935,-10.613886338801994,0.0,7.94321029415025,16.816982156474737,24.51158953937898],\"type\":\"scatter\"},{\"line\":{\"color\":\"rgb(2, 114, 188)\",\"width\":1.5},\"mode\":\"markers+lines\",\"name\":\"mean\",\"showlegend\":false,\"x\":[-30,-20,-10,0,10,20,30],\"y\":[-28.106104100004156,-18.465967381254156,-9.049812154566988,0.0,9.465666750644116,19.205339553508352,28.446256840482672],\"type\":\"scatter\"},{\"line\":{\"color\":\"black\",\"dash\":\"dash\",\"width\":1.5},\"mode\":\"lines\",\"name\":\"expected\",\"showlegend\":false,\"x\":[-30,-20,-10,0,10,20,30],\"y\":[-30,-20,-10,0,10,20,30],\"type\":\"scatter\"},{\"line\":{\"color\":\"rgb(217, 234, 245)\",\"width\":0.1},\"mode\":\"lines\",\"name\":\"upper bound\",\"showlegend\":false,\"x\":[-30,-20,-10,0,10,20,30],\"y\":[-25.19685994723901,-16.36126074694896,-7.485737970331982,0.0,10.988123207137983,21.59369695054197,32.38092414158636],\"type\":\"scatter\"},{\"fill\":\"tonexty\",\"line\":{\"color\":\"rgb(217, 234, 245)\"},\"mode\":\"lines\",\"name\":\"mean\",\"showlegend\":false,\"x\":[-30,-20,-10,0,10,20,30],\"y\":[-28.106104100004156,-18.465967381254156,-9.049812154566988,0.0,9.465666750644116,19.205339553508352,28.446256840482672],\"type\":\"scatter\"},{\"fill\":\"tonexty\",\"line\":{\"color\":\"rgb(217, 234, 245)\"},\"mode\":\"lines\",\"name\":\"lower bound\",\"showlegend\":false,\"x\":[-30,-20,-10,0,10,20,30],\"y\":[-31.015348252769304,-20.57067401555935,-10.613886338801994,0.0,7.94321029415025,16.816982156474737,24.51158953937898],\"type\":\"scatter\"},{\"line\":{\"color\":\"rgb(217, 234, 245)\",\"width\":0.1},\"mode\":\"lines\",\"name\":\"lower bound\",\"showlegend\":false,\"x\":[-30,-20,-10,0,10,20,30],\"y\":[-31.015348252769304,-20.57067401555935,-10.613886338801994,0.0,7.94321029415025,16.816982156474737,24.51158953937898],\"type\":\"scatter\"},{\"line\":{\"color\":\"rgb(2, 114, 188)\",\"width\":1.5},\"mode\":\"markers+lines\",\"name\":\"mean\",\"showlegend\":false,\"x\":[-30,-20,-10,0,10,20,30],\"y\":[-28.106104100004156,-18.465967381254156,-9.049812154566988,0.0,9.465666750644116,19.205339553508352,28.446256840482672],\"type\":\"scatter\"},{\"line\":{\"color\":\"black\",\"dash\":\"dash\",\"width\":1.5},\"mode\":\"lines\",\"name\":\"expected\",\"showlegend\":false,\"x\":[-30,-20,-10,0,10,20,30],\"y\":[-30,-20,-10,0,10,20,30],\"type\":\"scatter\"},{\"line\":{\"color\":\"rgb(217, 234, 245)\",\"width\":0.1},\"mode\":\"lines\",\"name\":\"upper bound\",\"showlegend\":false,\"x\":[-30,-20,-10,0,10,20,30],\"y\":[-25.19685994723901,-16.36126074694896,-7.485737970331982,0.0,10.988123207137983,21.59369695054197,32.38092414158636],\"type\":\"scatter\"},{\"fill\":\"tonexty\",\"line\":{\"color\":\"rgb(217, 234, 245)\"},\"mode\":\"lines\",\"name\":\"mean\",\"showlegend\":false,\"x\":[-30,-20,-10,0,10,20,30],\"y\":[-28.106104100004156,-18.465967381254156,-9.049812154566988,0.0,9.465666750644116,19.205339553508352,28.446256840482672],\"type\":\"scatter\"},{\"fill\":\"tonexty\",\"line\":{\"color\":\"rgb(217, 234, 245)\"},\"mode\":\"lines\",\"name\":\"lower bound\",\"showlegend\":false,\"x\":[-30,-20,-10,0,10,20,30],\"y\":[-31.015348252769304,-20.57067401555935,-10.613886338801994,0.0,7.94321029415025,16.816982156474737,24.51158953937898],\"type\":\"scatter\"},{\"line\":{\"color\":\"rgb(217, 234, 245)\",\"width\":0.1},\"mode\":\"lines\",\"name\":\"lower bound\",\"showlegend\":false,\"x\":[-30,-20,-10,0,10,20,30],\"y\":[-31.015348252769304,-20.57067401555935,-10.613886338801994,0.0,7.94321029415025,16.816982156474737,24.51158953937898],\"type\":\"scatter\"},{\"line\":{\"color\":\"rgb(2, 114, 188)\",\"width\":1.5},\"mode\":\"markers+lines\",\"name\":\"mean\",\"showlegend\":false,\"x\":[-30,-20,-10,0,10,20,30],\"y\":[-28.106104100004156,-18.465967381254156,-9.049812154566988,0.0,9.465666750644116,19.205339553508352,28.446256840482672],\"type\":\"scatter\"},{\"line\":{\"color\":\"black\",\"dash\":\"dash\",\"width\":1.5},\"mode\":\"lines\",\"name\":\"expected\",\"showlegend\":false,\"x\":[-30,-20,-10,0,10,20,30],\"y\":[-30,-20,-10,0,10,20,30],\"type\":\"scatter\"},{\"line\":{\"color\":\"rgb(217, 234, 245)\",\"width\":0.1},\"mode\":\"lines\",\"name\":\"upper bound\",\"showlegend\":false,\"x\":[-30,-20,-10,0,10,20,30],\"y\":[-25.19685994723901,-16.36126074694896,-7.485737970331982,0.0,10.988123207137983,21.59369695054197,32.38092414158636],\"type\":\"scatter\"},{\"fill\":\"tonexty\",\"line\":{\"color\":\"rgb(217, 234, 245)\"},\"mode\":\"lines\",\"name\":\"mean\",\"showlegend\":false,\"x\":[-30,-20,-10,0,10,20,30],\"y\":[-28.106104100004156,-18.465967381254156,-9.049812154566988,0.0,9.465666750644116,19.205339553508352,28.446256840482672],\"type\":\"scatter\"},{\"fill\":\"tonexty\",\"line\":{\"color\":\"rgb(217, 234, 245)\"},\"mode\":\"lines\",\"name\":\"lower bound\",\"showlegend\":false,\"x\":[-30,-20,-10,0,10,20,30],\"y\":[-31.015348252769304,-20.57067401555935,-10.613886338801994,0.0,7.94321029415025,16.816982156474737,24.51158953937898],\"type\":\"scatter\"},{\"line\":{\"color\":\"rgb(217, 234, 245)\",\"width\":0.1},\"mode\":\"lines\",\"name\":\"lower bound\",\"showlegend\":false,\"x\":[-30,-20,-10,0,10,20,30],\"y\":[-31.015348252769304,-20.57067401555935,-10.613886338801994,0.0,7.94321029415025,16.816982156474737,24.51158953937898],\"type\":\"scatter\"},{\"line\":{\"color\":\"rgb(2, 114, 188)\",\"width\":1.5},\"mode\":\"markers+lines\",\"name\":\"mean\",\"showlegend\":false,\"x\":[-30,-20,-10,0,10,20,30],\"y\":[-28.106104100004156,-18.465967381254156,-9.049812154566988,0.0,9.465666750644116,19.205339553508352,28.446256840482672],\"type\":\"scatter\"},{\"line\":{\"color\":\"black\",\"dash\":\"dash\",\"width\":1.5},\"mode\":\"lines\",\"name\":\"expected\",\"showlegend\":false,\"x\":[-30,-20,-10,0,10,20,30],\"y\":[-30,-20,-10,0,10,20,30],\"type\":\"scatter\"},{\"line\":{\"color\":\"rgba(234, 153, 153, 128)\",\"width\":0.1},\"mode\":\"lines\",\"name\":\"upper bound\",\"showlegend\":false,\"x\":[-30,-20,-10,0,10,20,30],\"y\":[-12.173685906345046,-8.083594528526419,-3.258803332168709,0.0,10.184116462806347,18.97737529564418,31.538119561109763],\"type\":\"scatter\",\"xaxis\":\"x2\",\"yaxis\":\"y2\"},{\"fill\":\"tonexty\",\"hovertemplate\":\"Largest predicted horizon shift for MonoDeptch<br> within 1 sigma range: %{y:.2f}px<extra></extra>\",\"line\":{\"color\":\"rgba(234, 153, 153, 128)\"},\"mode\":\"lines\",\"name\":\"mean\",\"showlegend\":false,\"x\":[-30,-20,-10,0,10,20,30],\"y\":[-19.798376103037413,-13.914418053381223,-7.704869929048204,0.0,6.750640357892538,13.923173334180694,22.81957339257309],\"type\":\"scatter\",\"xaxis\":\"x2\",\"yaxis\":\"y2\"},{\"fill\":\"tonexty\",\"line\":{\"color\":\"rgba(234, 153, 153, 128)\"},\"mode\":\"lines\",\"name\":\"lower bound\",\"showlegend\":false,\"x\":[-30,-20,-10,0,10,20,30],\"y\":[-27.42306629972978,-19.745241578236026,-12.1509365259277,0.0,3.317164252978728,8.868971372717208,14.101027224036418],\"type\":\"scatter\",\"xaxis\":\"x2\",\"yaxis\":\"y2\"},{\"hovertemplate\":\"Smallest predicted horizon shift when shifting the horizon by %{x:.2f}px for MonoDeptch<br /> within 1 sigma range: %{y:.2f}px<extra></extra>\",\"line\":{\"color\":\"rgba(234, 153, 153, 128)\",\"width\":0.1},\"mode\":\"lines\",\"name\":\"lower bound\",\"showlegend\":false,\"x\":[-30,-20,-10,0,10,20,30],\"y\":[-27.42306629972978,-19.745241578236026,-12.1509365259277,0.0,3.317164252978728,8.868971372717208,14.101027224036418],\"type\":\"scatter\",\"xaxis\":\"x2\",\"yaxis\":\"y2\"},{\"hovertemplate\":\"Mean shift in horizon in MonoDeptch<br> predictions by %{y:.2f}px<extra></extra>\",\"line\":{\"color\":\"rgb(204, 0, 0)\",\"width\":1.5},\"mode\":\"markers+lines\",\"name\":\"mean\",\"showlegend\":false,\"x\":[-30,-20,-10,0,10,20,30],\"y\":[-19.798376103037413,-13.914418053381223,-7.704869929048204,0.0,6.750640357892538,13.923173334180694,22.81957339257309],\"type\":\"scatter\",\"xaxis\":\"x2\",\"yaxis\":\"y2\"},{\"hovertemplate\":\"expected a shift in horizon by %{x}px<extra></extra>\",\"line\":{\"color\":\"black\",\"dash\":\"dash\",\"width\":1.5},\"mode\":\"lines\",\"name\":\"expected\",\"showlegend\":false,\"x\":[-30,-20,-10,0,10,20,30],\"y\":[-30,-20,-10,0,10,20,30],\"type\":\"scatter\",\"xaxis\":\"x2\",\"yaxis\":\"y2\"},{\"line\":{\"color\":\"rgba(234, 153, 153, 128)\",\"width\":0.1},\"mode\":\"lines\",\"name\":\"upper bound\",\"showlegend\":false,\"x\":[-30,-20,-10,0,10,20,30],\"y\":[-12.173685906345046,-8.083594528526419,-3.258803332168709,0.0,10.184116462806347,18.97737529564418,31.538119561109763],\"type\":\"scatter\",\"xaxis\":\"x2\",\"yaxis\":\"y2\"},{\"fill\":\"tonexty\",\"hovertemplate\":\"Largest predicted horizon shift for MonoDeptch<br> within 1 sigma range: %{y:.2f}px<extra></extra>\",\"line\":{\"color\":\"rgba(234, 153, 153, 128)\"},\"mode\":\"lines\",\"name\":\"mean\",\"showlegend\":false,\"x\":[-30,-20,-10,0,10,20,30],\"y\":[-19.798376103037413,-13.914418053381223,-7.704869929048204,0.0,6.750640357892538,13.923173334180694,22.81957339257309],\"type\":\"scatter\",\"xaxis\":\"x2\",\"yaxis\":\"y2\"},{\"fill\":\"tonexty\",\"line\":{\"color\":\"rgba(234, 153, 153, 128)\"},\"mode\":\"lines\",\"name\":\"lower bound\",\"showlegend\":false,\"x\":[-30,-20,-10,0,10,20,30],\"y\":[-27.42306629972978,-19.745241578236026,-12.1509365259277,0.0,3.317164252978728,8.868971372717208,14.101027224036418],\"type\":\"scatter\",\"xaxis\":\"x2\",\"yaxis\":\"y2\"},{\"hovertemplate\":\"Smallest predicted horizon shift when shifting the horizon by %{x:.2f}px for MonoDeptch<br /> within 1 sigma range: %{y:.2f}px<extra></extra>\",\"line\":{\"color\":\"rgba(234, 153, 153, 128)\",\"width\":0.1},\"mode\":\"lines\",\"name\":\"lower bound\",\"showlegend\":false,\"x\":[-30,-20,-10,0,10,20,30],\"y\":[-27.42306629972978,-19.745241578236026,-12.1509365259277,0.0,3.317164252978728,8.868971372717208,14.101027224036418],\"type\":\"scatter\",\"xaxis\":\"x2\",\"yaxis\":\"y2\"},{\"hovertemplate\":\"Mean shift in horizon in MonoDeptch<br> predictions by %{y:.2f}px<extra></extra>\",\"line\":{\"color\":\"rgb(204, 0, 0)\",\"width\":1.5},\"mode\":\"markers+lines\",\"name\":\"mean\",\"showlegend\":false,\"x\":[-30,-20,-10,0,10,20,30],\"y\":[-19.798376103037413,-13.914418053381223,-7.704869929048204,0.0,6.750640357892538,13.923173334180694,22.81957339257309],\"type\":\"scatter\",\"xaxis\":\"x2\",\"yaxis\":\"y2\"},{\"hovertemplate\":\"expected a shift in horizon by %{x}px<extra></extra>\",\"line\":{\"color\":\"black\",\"dash\":\"dash\",\"width\":1.5},\"mode\":\"lines\",\"name\":\"expected\",\"showlegend\":false,\"x\":[-30,-20,-10,0,10,20,30],\"y\":[-30,-20,-10,0,10,20,30],\"type\":\"scatter\",\"xaxis\":\"x2\",\"yaxis\":\"y2\"},{\"line\":{\"color\":\"rgba(234, 153, 153, 128)\",\"width\":0.1},\"mode\":\"lines\",\"name\":\"upper bound\",\"showlegend\":false,\"x\":[-30,-20,-10,0,10,20,30],\"y\":[-12.173685906345046,-8.083594528526419,-3.258803332168709,0.0,10.184116462806347,18.97737529564418,31.538119561109763],\"type\":\"scatter\",\"xaxis\":\"x2\",\"yaxis\":\"y2\"},{\"fill\":\"tonexty\",\"hovertemplate\":\"Largest predicted horizon shift for MonoDeptch<br> within 1 sigma range: %{y:.2f}px<extra></extra>\",\"line\":{\"color\":\"rgba(234, 153, 153, 128)\"},\"mode\":\"lines\",\"name\":\"mean\",\"showlegend\":false,\"x\":[-30,-20,-10,0,10,20,30],\"y\":[-19.798376103037413,-13.914418053381223,-7.704869929048204,0.0,6.750640357892538,13.923173334180694,22.81957339257309],\"type\":\"scatter\",\"xaxis\":\"x2\",\"yaxis\":\"y2\"},{\"fill\":\"tonexty\",\"line\":{\"color\":\"rgba(234, 153, 153, 128)\"},\"mode\":\"lines\",\"name\":\"lower bound\",\"showlegend\":false,\"x\":[-30,-20,-10,0,10,20,30],\"y\":[-27.42306629972978,-19.745241578236026,-12.1509365259277,0.0,3.317164252978728,8.868971372717208,14.101027224036418],\"type\":\"scatter\",\"xaxis\":\"x2\",\"yaxis\":\"y2\"},{\"hovertemplate\":\"Smallest predicted horizon shift when shifting the horizon by %{x:.2f}px for MonoDeptch<br /> within 1 sigma range: %{y:.2f}px<extra></extra>\",\"line\":{\"color\":\"rgba(234, 153, 153, 128)\",\"width\":0.1},\"mode\":\"lines\",\"name\":\"lower bound\",\"showlegend\":false,\"x\":[-30,-20,-10,0,10,20,30],\"y\":[-27.42306629972978,-19.745241578236026,-12.1509365259277,0.0,3.317164252978728,8.868971372717208,14.101027224036418],\"type\":\"scatter\",\"xaxis\":\"x2\",\"yaxis\":\"y2\"},{\"hovertemplate\":\"Mean shift in horizon in MonoDeptch<br> predictions by %{y:.2f}px<extra></extra>\",\"line\":{\"color\":\"rgb(204, 0, 0)\",\"width\":1.5},\"mode\":\"markers+lines\",\"name\":\"mean\",\"showlegend\":false,\"x\":[-30,-20,-10,0,10,20,30],\"y\":[-19.798376103037413,-13.914418053381223,-7.704869929048204,0.0,6.750640357892538,13.923173334180694,22.81957339257309],\"type\":\"scatter\",\"xaxis\":\"x2\",\"yaxis\":\"y2\"},{\"hovertemplate\":\"expected a shift in horizon by %{x}px<extra></extra>\",\"line\":{\"color\":\"black\",\"dash\":\"dash\",\"width\":1.5},\"mode\":\"lines\",\"name\":\"expected\",\"showlegend\":false,\"x\":[-30,-20,-10,0,10,20,30],\"y\":[-30,-20,-10,0,10,20,30],\"type\":\"scatter\",\"xaxis\":\"x2\",\"yaxis\":\"y2\"},{\"line\":{\"color\":\"rgba(234, 153, 153, 128)\",\"width\":0.1},\"mode\":\"lines\",\"name\":\"upper bound\",\"showlegend\":false,\"x\":[-30,-20,-10,0,10,20,30],\"y\":[-12.173685906345046,-8.083594528526419,-3.258803332168709,0.0,10.184116462806347,18.97737529564418,31.538119561109763],\"type\":\"scatter\",\"xaxis\":\"x2\",\"yaxis\":\"y2\"},{\"fill\":\"tonexty\",\"hovertemplate\":\"Largest predicted horizon shift for MonoDeptch<br> within 1 sigma range: %{y:.2f}px<extra></extra>\",\"line\":{\"color\":\"rgba(234, 153, 153, 128)\"},\"mode\":\"lines\",\"name\":\"mean\",\"showlegend\":false,\"x\":[-30,-20,-10,0,10,20,30],\"y\":[-19.798376103037413,-13.914418053381223,-7.704869929048204,0.0,6.750640357892538,13.923173334180694,22.81957339257309],\"type\":\"scatter\",\"xaxis\":\"x2\",\"yaxis\":\"y2\"},{\"fill\":\"tonexty\",\"line\":{\"color\":\"rgba(234, 153, 153, 128)\"},\"mode\":\"lines\",\"name\":\"lower bound\",\"showlegend\":false,\"x\":[-30,-20,-10,0,10,20,30],\"y\":[-27.42306629972978,-19.745241578236026,-12.1509365259277,0.0,3.317164252978728,8.868971372717208,14.101027224036418],\"type\":\"scatter\",\"xaxis\":\"x2\",\"yaxis\":\"y2\"},{\"hovertemplate\":\"Smallest predicted horizon shift when shifting the horizon by %{x:.2f}px for MonoDeptch<br /> within 1 sigma range: %{y:.2f}px<extra></extra>\",\"line\":{\"color\":\"rgba(234, 153, 153, 128)\",\"width\":0.1},\"mode\":\"lines\",\"name\":\"lower bound\",\"showlegend\":false,\"x\":[-30,-20,-10,0,10,20,30],\"y\":[-27.42306629972978,-19.745241578236026,-12.1509365259277,0.0,3.317164252978728,8.868971372717208,14.101027224036418],\"type\":\"scatter\",\"xaxis\":\"x2\",\"yaxis\":\"y2\"},{\"hovertemplate\":\"Mean shift in horizon in MonoDeptch<br> predictions by %{y:.2f}px<extra></extra>\",\"line\":{\"color\":\"rgb(204, 0, 0)\",\"width\":1.5},\"mode\":\"markers+lines\",\"name\":\"mean\",\"showlegend\":false,\"x\":[-30,-20,-10,0,10,20,30],\"y\":[-19.798376103037413,-13.914418053381223,-7.704869929048204,0.0,6.750640357892538,13.923173334180694,22.81957339257309],\"type\":\"scatter\",\"xaxis\":\"x2\",\"yaxis\":\"y2\"},{\"hovertemplate\":\"expected a shift in horizon by %{x}px<extra></extra>\",\"line\":{\"color\":\"black\",\"dash\":\"dash\",\"width\":1.5},\"mode\":\"lines\",\"name\":\"expected\",\"showlegend\":false,\"x\":[-30,-20,-10,0,10,20,30],\"y\":[-30,-20,-10,0,10,20,30],\"type\":\"scatter\",\"xaxis\":\"x2\",\"yaxis\":\"y2\"},{\"line\":{\"color\":\"rgba(234, 153, 153, 128)\",\"width\":0.1},\"mode\":\"lines\",\"name\":\"upper bound\",\"showlegend\":false,\"x\":[-30,-20,-10,0,10,20,30],\"y\":[-12.173685906345046,-8.083594528526419,-3.258803332168709,0.0,10.184116462806347,18.97737529564418,31.538119561109763],\"type\":\"scatter\",\"xaxis\":\"x2\",\"yaxis\":\"y2\"},{\"fill\":\"tonexty\",\"hovertemplate\":\"Largest predicted horizon shift for MonoDeptch<br> within 1 sigma range: %{y:.2f}px<extra></extra>\",\"line\":{\"color\":\"rgba(234, 153, 153, 128)\"},\"mode\":\"lines\",\"name\":\"mean\",\"showlegend\":false,\"x\":[-30,-20,-10,0,10,20,30],\"y\":[-19.798376103037413,-13.914418053381223,-7.704869929048204,0.0,6.750640357892538,13.923173334180694,22.81957339257309],\"type\":\"scatter\",\"xaxis\":\"x2\",\"yaxis\":\"y2\"},{\"fill\":\"tonexty\",\"line\":{\"color\":\"rgba(234, 153, 153, 128)\"},\"mode\":\"lines\",\"name\":\"lower bound\",\"showlegend\":false,\"x\":[-30,-20,-10,0,10,20,30],\"y\":[-27.42306629972978,-19.745241578236026,-12.1509365259277,0.0,3.317164252978728,8.868971372717208,14.101027224036418],\"type\":\"scatter\",\"xaxis\":\"x2\",\"yaxis\":\"y2\"},{\"hovertemplate\":\"Smallest predicted horizon shift when shifting the horizon by %{x:.2f}px for MonoDeptch<br /> within 1 sigma range: %{y:.2f}px<extra></extra>\",\"line\":{\"color\":\"rgba(234, 153, 153, 128)\",\"width\":0.1},\"mode\":\"lines\",\"name\":\"lower bound\",\"showlegend\":false,\"x\":[-30,-20,-10,0,10,20,30],\"y\":[-27.42306629972978,-19.745241578236026,-12.1509365259277,0.0,3.317164252978728,8.868971372717208,14.101027224036418],\"type\":\"scatter\",\"xaxis\":\"x2\",\"yaxis\":\"y2\"},{\"hovertemplate\":\"Mean shift in horizon in MonoDeptch<br> predictions by %{y:.2f}px<extra></extra>\",\"line\":{\"color\":\"rgb(204, 0, 0)\",\"width\":1.5},\"mode\":\"markers+lines\",\"name\":\"mean\",\"showlegend\":false,\"x\":[-30,-20,-10,0,10,20,30],\"y\":[-19.798376103037413,-13.914418053381223,-7.704869929048204,0.0,6.750640357892538,13.923173334180694,22.81957339257309],\"type\":\"scatter\",\"xaxis\":\"x2\",\"yaxis\":\"y2\"},{\"hovertemplate\":\"expected a shift in horizon by %{x}px<extra></extra>\",\"line\":{\"color\":\"black\",\"dash\":\"dash\",\"width\":1.5},\"mode\":\"lines\",\"name\":\"expected\",\"showlegend\":false,\"x\":[-30,-20,-10,0,10,20,30],\"y\":[-30,-20,-10,0,10,20,30],\"type\":\"scatter\",\"xaxis\":\"x2\",\"yaxis\":\"y2\"},{\"line\":{\"color\":\"rgba(234, 153, 153, 128)\",\"width\":0.1},\"mode\":\"lines\",\"name\":\"upper bound\",\"showlegend\":false,\"x\":[-30,-20,-10,0,10,20,30],\"y\":[-12.173685906345046,-8.083594528526419,-3.258803332168709,0.0,10.184116462806347,18.97737529564418,31.538119561109763],\"type\":\"scatter\",\"xaxis\":\"x2\",\"yaxis\":\"y2\"},{\"fill\":\"tonexty\",\"hovertemplate\":\"Largest predicted horizon shift for MonoDeptch<br> within 1 sigma range: %{y:.2f}px<extra></extra>\",\"line\":{\"color\":\"rgba(234, 153, 153, 128)\"},\"mode\":\"lines\",\"name\":\"mean\",\"showlegend\":false,\"x\":[-30,-20,-10,0,10,20,30],\"y\":[-19.798376103037413,-13.914418053381223,-7.704869929048204,0.0,6.750640357892538,13.923173334180694,22.81957339257309],\"type\":\"scatter\",\"xaxis\":\"x2\",\"yaxis\":\"y2\"},{\"fill\":\"tonexty\",\"line\":{\"color\":\"rgba(234, 153, 153, 128)\"},\"mode\":\"lines\",\"name\":\"lower bound\",\"showlegend\":false,\"x\":[-30,-20,-10,0,10,20,30],\"y\":[-27.42306629972978,-19.745241578236026,-12.1509365259277,0.0,3.317164252978728,8.868971372717208,14.101027224036418],\"type\":\"scatter\",\"xaxis\":\"x2\",\"yaxis\":\"y2\"},{\"hovertemplate\":\"Smallest predicted horizon shift when shifting the horizon by %{x:.2f}px for MonoDeptch<br /> within 1 sigma range: %{y:.2f}px<extra></extra>\",\"line\":{\"color\":\"rgba(234, 153, 153, 128)\",\"width\":0.1},\"mode\":\"lines\",\"name\":\"lower bound\",\"showlegend\":false,\"x\":[-30,-20,-10,0,10,20,30],\"y\":[-27.42306629972978,-19.745241578236026,-12.1509365259277,0.0,3.317164252978728,8.868971372717208,14.101027224036418],\"type\":\"scatter\",\"xaxis\":\"x2\",\"yaxis\":\"y2\"},{\"hovertemplate\":\"Mean shift in horizon in MonoDeptch<br> predictions by %{y:.2f}px<extra></extra>\",\"line\":{\"color\":\"rgb(204, 0, 0)\",\"width\":1.5},\"mode\":\"markers+lines\",\"name\":\"mean\",\"showlegend\":false,\"x\":[-30,-20,-10,0,10,20,30],\"y\":[-19.798376103037413,-13.914418053381223,-7.704869929048204,0.0,6.750640357892538,13.923173334180694,22.81957339257309],\"type\":\"scatter\",\"xaxis\":\"x2\",\"yaxis\":\"y2\"},{\"hovertemplate\":\"expected a shift in horizon by %{x}px<extra></extra>\",\"line\":{\"color\":\"black\",\"dash\":\"dash\",\"width\":1.5},\"mode\":\"lines\",\"name\":\"expected\",\"showlegend\":false,\"x\":[-30,-20,-10,0,10,20,30],\"y\":[-30,-20,-10,0,10,20,30],\"type\":\"scatter\",\"xaxis\":\"x2\",\"yaxis\":\"y2\"},{\"line\":{\"color\":\"rgba(234, 153, 153, 128)\",\"width\":0.1},\"mode\":\"lines\",\"name\":\"upper bound\",\"showlegend\":false,\"x\":[-30,-20,-10,0,10,20,30],\"y\":[-12.173685906345046,-8.083594528526419,-3.258803332168709,0.0,10.184116462806347,18.97737529564418,31.538119561109763],\"type\":\"scatter\",\"xaxis\":\"x2\",\"yaxis\":\"y2\"},{\"fill\":\"tonexty\",\"hovertemplate\":\"Largest predicted horizon shift for MonoDeptch<br> within 1 sigma range: %{y:.2f}px<extra></extra>\",\"line\":{\"color\":\"rgba(234, 153, 153, 128)\"},\"mode\":\"lines\",\"name\":\"mean\",\"showlegend\":false,\"x\":[-30,-20,-10,0,10,20,30],\"y\":[-19.798376103037413,-13.914418053381223,-7.704869929048204,0.0,6.750640357892538,13.923173334180694,22.81957339257309],\"type\":\"scatter\",\"xaxis\":\"x2\",\"yaxis\":\"y2\"},{\"fill\":\"tonexty\",\"line\":{\"color\":\"rgba(234, 153, 153, 128)\"},\"mode\":\"lines\",\"name\":\"lower bound\",\"showlegend\":false,\"x\":[-30,-20,-10,0,10,20,30],\"y\":[-27.42306629972978,-19.745241578236026,-12.1509365259277,0.0,3.317164252978728,8.868971372717208,14.101027224036418],\"type\":\"scatter\",\"xaxis\":\"x2\",\"yaxis\":\"y2\"},{\"hovertemplate\":\"Smallest predicted horizon shift when shifting the horizon by %{x:.2f}px for MonoDeptch<br /> within 1 sigma range: %{y:.2f}px<extra></extra>\",\"line\":{\"color\":\"rgba(234, 153, 153, 128)\",\"width\":0.1},\"mode\":\"lines\",\"name\":\"lower bound\",\"showlegend\":false,\"x\":[-30,-20,-10,0,10,20,30],\"y\":[-27.42306629972978,-19.745241578236026,-12.1509365259277,0.0,3.317164252978728,8.868971372717208,14.101027224036418],\"type\":\"scatter\",\"xaxis\":\"x2\",\"yaxis\":\"y2\"},{\"hovertemplate\":\"Mean shift in horizon in MonoDeptch<br> predictions by %{y:.2f}px<extra></extra>\",\"line\":{\"color\":\"rgb(204, 0, 0)\",\"width\":1.5},\"mode\":\"markers+lines\",\"name\":\"mean\",\"showlegend\":false,\"x\":[-30,-20,-10,0,10,20,30],\"y\":[-19.798376103037413,-13.914418053381223,-7.704869929048204,0.0,6.750640357892538,13.923173334180694,22.81957339257309],\"type\":\"scatter\",\"xaxis\":\"x2\",\"yaxis\":\"y2\"},{\"hovertemplate\":\"expected a shift in horizon by %{x}px<extra></extra>\",\"line\":{\"color\":\"black\",\"dash\":\"dash\",\"width\":1.5},\"mode\":\"lines\",\"name\":\"expected\",\"showlegend\":false,\"x\":[-30,-20,-10,0,10,20,30],\"y\":[-30,-20,-10,0,10,20,30],\"type\":\"scatter\",\"xaxis\":\"x2\",\"yaxis\":\"y2\"}],                        {\"template\":{\"data\":{\"histogram2dcontour\":[{\"type\":\"histogram2dcontour\",\"colorbar\":{\"outlinewidth\":0,\"ticks\":\"\"},\"colorscale\":[[0.0,\"#0d0887\"],[0.1111111111111111,\"#46039f\"],[0.2222222222222222,\"#7201a8\"],[0.3333333333333333,\"#9c179e\"],[0.4444444444444444,\"#bd3786\"],[0.5555555555555556,\"#d8576b\"],[0.6666666666666666,\"#ed7953\"],[0.7777777777777778,\"#fb9f3a\"],[0.8888888888888888,\"#fdca26\"],[1.0,\"#f0f921\"]]}],\"choropleth\":[{\"type\":\"choropleth\",\"colorbar\":{\"outlinewidth\":0,\"ticks\":\"\"}}],\"histogram2d\":[{\"type\":\"histogram2d\",\"colorbar\":{\"outlinewidth\":0,\"ticks\":\"\"},\"colorscale\":[[0.0,\"#0d0887\"],[0.1111111111111111,\"#46039f\"],[0.2222222222222222,\"#7201a8\"],[0.3333333333333333,\"#9c179e\"],[0.4444444444444444,\"#bd3786\"],[0.5555555555555556,\"#d8576b\"],[0.6666666666666666,\"#ed7953\"],[0.7777777777777778,\"#fb9f3a\"],[0.8888888888888888,\"#fdca26\"],[1.0,\"#f0f921\"]]}],\"heatmap\":[{\"type\":\"heatmap\",\"colorbar\":{\"outlinewidth\":0,\"ticks\":\"\"},\"colorscale\":[[0.0,\"#0d0887\"],[0.1111111111111111,\"#46039f\"],[0.2222222222222222,\"#7201a8\"],[0.3333333333333333,\"#9c179e\"],[0.4444444444444444,\"#bd3786\"],[0.5555555555555556,\"#d8576b\"],[0.6666666666666666,\"#ed7953\"],[0.7777777777777778,\"#fb9f3a\"],[0.8888888888888888,\"#fdca26\"],[1.0,\"#f0f921\"]]}],\"heatmapgl\":[{\"type\":\"heatmapgl\",\"colorbar\":{\"outlinewidth\":0,\"ticks\":\"\"},\"colorscale\":[[0.0,\"#0d0887\"],[0.1111111111111111,\"#46039f\"],[0.2222222222222222,\"#7201a8\"],[0.3333333333333333,\"#9c179e\"],[0.4444444444444444,\"#bd3786\"],[0.5555555555555556,\"#d8576b\"],[0.6666666666666666,\"#ed7953\"],[0.7777777777777778,\"#fb9f3a\"],[0.8888888888888888,\"#fdca26\"],[1.0,\"#f0f921\"]]}],\"contourcarpet\":[{\"type\":\"contourcarpet\",\"colorbar\":{\"outlinewidth\":0,\"ticks\":\"\"}}],\"contour\":[{\"type\":\"contour\",\"colorbar\":{\"outlinewidth\":0,\"ticks\":\"\"},\"colorscale\":[[0.0,\"#0d0887\"],[0.1111111111111111,\"#46039f\"],[0.2222222222222222,\"#7201a8\"],[0.3333333333333333,\"#9c179e\"],[0.4444444444444444,\"#bd3786\"],[0.5555555555555556,\"#d8576b\"],[0.6666666666666666,\"#ed7953\"],[0.7777777777777778,\"#fb9f3a\"],[0.8888888888888888,\"#fdca26\"],[1.0,\"#f0f921\"]]}],\"surface\":[{\"type\":\"surface\",\"colorbar\":{\"outlinewidth\":0,\"ticks\":\"\"},\"colorscale\":[[0.0,\"#0d0887\"],[0.1111111111111111,\"#46039f\"],[0.2222222222222222,\"#7201a8\"],[0.3333333333333333,\"#9c179e\"],[0.4444444444444444,\"#bd3786\"],[0.5555555555555556,\"#d8576b\"],[0.6666666666666666,\"#ed7953\"],[0.7777777777777778,\"#fb9f3a\"],[0.8888888888888888,\"#fdca26\"],[1.0,\"#f0f921\"]]}],\"mesh3d\":[{\"type\":\"mesh3d\",\"colorbar\":{\"outlinewidth\":0,\"ticks\":\"\"}}],\"scatter\":[{\"fillpattern\":{\"fillmode\":\"overlay\",\"size\":10,\"solidity\":0.2},\"type\":\"scatter\"}],\"parcoords\":[{\"type\":\"parcoords\",\"line\":{\"colorbar\":{\"outlinewidth\":0,\"ticks\":\"\"}}}],\"scatterpolargl\":[{\"type\":\"scatterpolargl\",\"marker\":{\"colorbar\":{\"outlinewidth\":0,\"ticks\":\"\"}}}],\"bar\":[{\"error_x\":{\"color\":\"#2a3f5f\"},\"error_y\":{\"color\":\"#2a3f5f\"},\"marker\":{\"line\":{\"color\":\"#E5ECF6\",\"width\":0.5},\"pattern\":{\"fillmode\":\"overlay\",\"size\":10,\"solidity\":0.2}},\"type\":\"bar\"}],\"scattergeo\":[{\"type\":\"scattergeo\",\"marker\":{\"colorbar\":{\"outlinewidth\":0,\"ticks\":\"\"}}}],\"scatterpolar\":[{\"type\":\"scatterpolar\",\"marker\":{\"colorbar\":{\"outlinewidth\":0,\"ticks\":\"\"}}}],\"histogram\":[{\"marker\":{\"pattern\":{\"fillmode\":\"overlay\",\"size\":10,\"solidity\":0.2}},\"type\":\"histogram\"}],\"scattergl\":[{\"type\":\"scattergl\",\"marker\":{\"colorbar\":{\"outlinewidth\":0,\"ticks\":\"\"}}}],\"scatter3d\":[{\"type\":\"scatter3d\",\"line\":{\"colorbar\":{\"outlinewidth\":0,\"ticks\":\"\"}},\"marker\":{\"colorbar\":{\"outlinewidth\":0,\"ticks\":\"\"}}}],\"scattermapbox\":[{\"type\":\"scattermapbox\",\"marker\":{\"colorbar\":{\"outlinewidth\":0,\"ticks\":\"\"}}}],\"scatterternary\":[{\"type\":\"scatterternary\",\"marker\":{\"colorbar\":{\"outlinewidth\":0,\"ticks\":\"\"}}}],\"scattercarpet\":[{\"type\":\"scattercarpet\",\"marker\":{\"colorbar\":{\"outlinewidth\":0,\"ticks\":\"\"}}}],\"carpet\":[{\"aaxis\":{\"endlinecolor\":\"#2a3f5f\",\"gridcolor\":\"white\",\"linecolor\":\"white\",\"minorgridcolor\":\"white\",\"startlinecolor\":\"#2a3f5f\"},\"baxis\":{\"endlinecolor\":\"#2a3f5f\",\"gridcolor\":\"white\",\"linecolor\":\"white\",\"minorgridcolor\":\"white\",\"startlinecolor\":\"#2a3f5f\"},\"type\":\"carpet\"}],\"table\":[{\"cells\":{\"fill\":{\"color\":\"#EBF0F8\"},\"line\":{\"color\":\"white\"}},\"header\":{\"fill\":{\"color\":\"#C8D4E3\"},\"line\":{\"color\":\"white\"}},\"type\":\"table\"}],\"barpolar\":[{\"marker\":{\"line\":{\"color\":\"#E5ECF6\",\"width\":0.5},\"pattern\":{\"fillmode\":\"overlay\",\"size\":10,\"solidity\":0.2}},\"type\":\"barpolar\"}],\"pie\":[{\"automargin\":true,\"type\":\"pie\"}]},\"layout\":{\"autotypenumbers\":\"strict\",\"colorway\":[\"#636efa\",\"#EF553B\",\"#00cc96\",\"#ab63fa\",\"#FFA15A\",\"#19d3f3\",\"#FF6692\",\"#B6E880\",\"#FF97FF\",\"#FECB52\"],\"font\":{\"color\":\"#2a3f5f\"},\"hovermode\":\"closest\",\"hoverlabel\":{\"align\":\"left\"},\"paper_bgcolor\":\"white\",\"plot_bgcolor\":\"#E5ECF6\",\"polar\":{\"bgcolor\":\"#E5ECF6\",\"angularaxis\":{\"gridcolor\":\"white\",\"linecolor\":\"white\",\"ticks\":\"\"},\"radialaxis\":{\"gridcolor\":\"white\",\"linecolor\":\"white\",\"ticks\":\"\"}},\"ternary\":{\"bgcolor\":\"#E5ECF6\",\"aaxis\":{\"gridcolor\":\"white\",\"linecolor\":\"white\",\"ticks\":\"\"},\"baxis\":{\"gridcolor\":\"white\",\"linecolor\":\"white\",\"ticks\":\"\"},\"caxis\":{\"gridcolor\":\"white\",\"linecolor\":\"white\",\"ticks\":\"\"}},\"coloraxis\":{\"colorbar\":{\"outlinewidth\":0,\"ticks\":\"\"}},\"colorscale\":{\"sequential\":[[0.0,\"#0d0887\"],[0.1111111111111111,\"#46039f\"],[0.2222222222222222,\"#7201a8\"],[0.3333333333333333,\"#9c179e\"],[0.4444444444444444,\"#bd3786\"],[0.5555555555555556,\"#d8576b\"],[0.6666666666666666,\"#ed7953\"],[0.7777777777777778,\"#fb9f3a\"],[0.8888888888888888,\"#fdca26\"],[1.0,\"#f0f921\"]],\"sequentialminus\":[[0.0,\"#0d0887\"],[0.1111111111111111,\"#46039f\"],[0.2222222222222222,\"#7201a8\"],[0.3333333333333333,\"#9c179e\"],[0.4444444444444444,\"#bd3786\"],[0.5555555555555556,\"#d8576b\"],[0.6666666666666666,\"#ed7953\"],[0.7777777777777778,\"#fb9f3a\"],[0.8888888888888888,\"#fdca26\"],[1.0,\"#f0f921\"]],\"diverging\":[[0,\"#8e0152\"],[0.1,\"#c51b7d\"],[0.2,\"#de77ae\"],[0.3,\"#f1b6da\"],[0.4,\"#fde0ef\"],[0.5,\"#f7f7f7\"],[0.6,\"#e6f5d0\"],[0.7,\"#b8e186\"],[0.8,\"#7fbc41\"],[0.9,\"#4d9221\"],[1,\"#276419\"]]},\"xaxis\":{\"gridcolor\":\"white\",\"linecolor\":\"white\",\"ticks\":\"\",\"title\":{\"standoff\":15},\"zerolinecolor\":\"white\",\"automargin\":true,\"zerolinewidth\":2},\"yaxis\":{\"gridcolor\":\"white\",\"linecolor\":\"white\",\"ticks\":\"\",\"title\":{\"standoff\":15},\"zerolinecolor\":\"white\",\"automargin\":true,\"zerolinewidth\":2},\"scene\":{\"xaxis\":{\"backgroundcolor\":\"#E5ECF6\",\"gridcolor\":\"white\",\"linecolor\":\"white\",\"showbackground\":true,\"ticks\":\"\",\"zerolinecolor\":\"white\",\"gridwidth\":2},\"yaxis\":{\"backgroundcolor\":\"#E5ECF6\",\"gridcolor\":\"white\",\"linecolor\":\"white\",\"showbackground\":true,\"ticks\":\"\",\"zerolinecolor\":\"white\",\"gridwidth\":2},\"zaxis\":{\"backgroundcolor\":\"#E5ECF6\",\"gridcolor\":\"white\",\"linecolor\":\"white\",\"showbackground\":true,\"ticks\":\"\",\"zerolinecolor\":\"white\",\"gridwidth\":2}},\"shapedefaults\":{\"line\":{\"color\":\"#2a3f5f\"}},\"annotationdefaults\":{\"arrowcolor\":\"#2a3f5f\",\"arrowhead\":0,\"arrowwidth\":1},\"geo\":{\"bgcolor\":\"white\",\"landcolor\":\"#E5ECF6\",\"subunitcolor\":\"white\",\"showland\":true,\"showlakes\":true,\"lakecolor\":\"white\"},\"title\":{\"x\":0.05},\"mapbox\":{\"style\":\"light\"}}},\"xaxis\":{\"anchor\":\"y\",\"domain\":[0.0,0.45],\"range\":[-32,32],\"tickmode\":\"linear\",\"tick0\":-30,\"dtick\":10,\"showline\":true,\"linewidth\":1,\"linecolor\":\"gray\",\"gridcolor\":\"black\",\"zeroline\":true,\"zerolinewidth\":1,\"zerolinecolor\":\"gray\",\"title\":{\"text\":\"True horizon shift [px]\"}},\"yaxis\":{\"anchor\":\"x\",\"domain\":[0.0,1.0],\"range\":[-32,32],\"showline\":true,\"linewidth\":1,\"linecolor\":\"gray\",\"gridcolor\":\"black\",\"zeroline\":true,\"zerolinewidth\":1,\"zerolinecolor\":\"gray\",\"tick0\":-30,\"dtick\":10,\"title\":{\"text\":\"Horizon shift in depth map [px]\"}},\"xaxis2\":{\"anchor\":\"y2\",\"domain\":[0.55,1.0],\"showline\":true,\"linewidth\":1,\"linecolor\":\"gray\",\"gridcolor\":\"black\",\"zeroline\":true,\"zerolinewidth\":1,\"zerolinecolor\":\"gray\",\"tick0\":-30,\"dtick\":10,\"range\":[-32,32],\"title\":{\"text\":\"True horizon shift [px]\"}},\"yaxis2\":{\"anchor\":\"x2\",\"domain\":[0.0,1.0],\"showline\":true,\"linewidth\":1,\"linecolor\":\"gray\",\"gridcolor\":\"black\",\"zeroline\":true,\"zerolinewidth\":1,\"zerolinecolor\":\"gray\",\"tick0\":-30,\"dtick\":10,\"range\":[-32,32],\"title\":{\"text\":\"Horizon shift in depth map [px]\"}},\"annotations\":[{\"font\":{\"size\":16},\"showarrow\":false,\"text\":\"DPT Pitch\",\"x\":0.225,\"xanchor\":\"center\",\"xref\":\"paper\",\"y\":1.0,\"yanchor\":\"bottom\",\"yref\":\"paper\"},{\"font\":{\"size\":16},\"showarrow\":false,\"text\":\"MonoDepth Pitch\",\"x\":0.775,\"xanchor\":\"center\",\"xref\":\"paper\",\"y\":1.0,\"yanchor\":\"bottom\",\"yref\":\"paper\"}],\"height\":500,\"width\":950,\"title\":{\"text\":\"True and Estimated Shifts in Horizon Levels after Cropping the KITTI Images\",\"x\":0.5},\"plot_bgcolor\":\"rgba(0,0,0,0)\"},                        {\"responsive\": true}                    ).then(function(){\n",
       "                            \n",
       "var gd = document.getElementById('50d7485c-40f2-426d-9a89-15861f596d38');\n",
       "var x = new MutationObserver(function (mutations, observer) {{\n",
       "        var display = window.getComputedStyle(gd).display;\n",
       "        if (!display || display === 'none') {{\n",
       "            console.log([gd, 'removed!']);\n",
       "            Plotly.purge(gd);\n",
       "            observer.disconnect();\n",
       "        }}\n",
       "}});\n",
       "\n",
       "// Listen for the removal of the full notebook cells\n",
       "var notebookContainer = gd.closest('#notebook-container');\n",
       "if (notebookContainer) {{\n",
       "    x.observe(notebookContainer, {childList: true});\n",
       "}}\n",
       "\n",
       "// Listen for the clearing of the current output cell\n",
       "var outputEl = gd.closest('.output');\n",
       "if (outputEl) {{\n",
       "    x.observe(outputEl, {childList: true});\n",
       "}}\n",
       "\n",
       "                        })                };                });            </script>        </div>"
      ]
     },
     "metadata": {},
     "output_type": "display_data"
    }
   ],
   "source": [
    "# plotly  figure\n",
    "# fig = go.Figure()\n",
    "fig = make_subplots(rows=1, cols=2, \n",
    "                        shared_yaxes=False,\n",
    "                        subplot_titles=(\"DPT Pitch\", \"MonoDepth Pitch\"),\n",
    "                        specs = [[{}, {}]],\n",
    "                        horizontal_spacing = 0.1,\n",
    "                        vertical_spacing = 0.01)\n",
    "\n",
    "cols_ints = list(map(int,dpt_pitch_df.columns))\n",
    "\n",
    "fig.update_layout(height=500)\n",
    "fig.update_layout(width=950)\n",
    "fig.update_layout(yaxis_range=[-32,32])\n",
    "fig.update_layout(xaxis_range=[-32,32])\n",
    "\n",
    "# add line and shaded area for each series and standards deviation\n",
    "\n",
    "dpt_pitch_stds = dpt_pitch_df.std()\n",
    "dpt_pitch_means = dpt_pitch_df.mean()\n",
    "\n",
    "mono_pitch_stds = mono_pitch_df.std()\n",
    "mono_pitch_means = mono_pitch_df.mean()\n",
    "\n",
    "# title and labels\n",
    "fig.update_layout(title=\"True and Estimated Shifts in Horizon Levels after Cropping the KITTI Images\",\n",
    "                 title_x=0.5)\n",
    "\n",
    "# colors\n",
    "dpt_mean_line_color = 'rgb(2, 114, 188)'\n",
    "dpt_std_area_color = 'rgb(217, 234, 245)'\n",
    "dpt_std_area_bound_line_color = 'rgb(217, 234, 245)'\n",
    "\n",
    "mono_mean_line_color = 'rgb(204, 0, 0)'\n",
    "mono_std_area_color = 'rgba(234, 153, 153, 128)'\n",
    "mono_std_area_bound_line_color = 'rgba(234, 153, 153, 128)'\n",
    "\n",
    "# DPT\n",
    "for i, col in enumerate(dpt_pitch_df):\n",
    "    # standard deviation area upper bound line\n",
    "    fig.add_trace(go.Scatter(x=cols_ints, y=dpt_pitch_means.add(dpt_pitch_stds.multiply(1)),\n",
    "                                     mode='lines',\n",
    "                                     line=dict(color=dpt_std_area_bound_line_color,width=0.1),\n",
    "                                     name='upper bound',\n",
    "                                     showlegend=False))\n",
    "\n",
    "    # standard deviation area upper bound\n",
    "    fig.add_trace(go.Scatter(x=cols_ints,\n",
    "                              y=dpt_pitch_df.mean(),\n",
    "                              line=dict(color=dpt_std_area_color),\n",
    "                              mode='lines',\n",
    "                              fill='tonexty',\n",
    "                              name='mean',\n",
    "                              showlegend=False))\n",
    "    # standard deviation area lower bound\n",
    "    fig.add_trace(go.Scatter(x=cols_ints,\n",
    "                              y=dpt_pitch_means.sub(dpt_pitch_stds.multiply(1)),\n",
    "                              line=dict(color=dpt_std_area_color),\n",
    "                              mode='lines',\n",
    "                              fill='tonexty',\n",
    "                              name='lower bound',\n",
    "                              showlegend=False))\n",
    "    # standard deviation lower bound line\n",
    "    fig.add_trace(go.Scatter(x=cols_ints,\n",
    "                              y=dpt_pitch_means.sub(dpt_pitch_stds.multiply(1)),\n",
    "                              line=dict(color=dpt_std_area_bound_line_color,width=0.1),\n",
    "                              mode='lines',\n",
    "                              name='lower bound',\n",
    "                              showlegend=False))\n",
    "    \n",
    "    # mean line\n",
    "    fig.add_trace(go.Scatter(x=cols_ints,\n",
    "                              y=dpt_pitch_means,\n",
    "                              line=dict(color=dpt_mean_line_color,width=1.5),\n",
    "                              mode='markers+lines',\n",
    "                              name='mean',\n",
    "                              showlegend=False))\n",
    "    \n",
    "    # exptected line\n",
    "    fig.add_trace(go.Scatter(x=cols_ints,\n",
    "                              y=cols_ints,\n",
    "                              line=dict(color=\"black\",width=1.5,dash=\"dash\"),\n",
    "                              mode='lines',\n",
    "                              name='expected',\n",
    "                              showlegend=False))\n",
    "    \n",
    "fig.update_layout(\n",
    "    xaxis = dict(\n",
    "        tickmode = 'linear',\n",
    "        tick0 = -30,\n",
    "        dtick = 10\n",
    "    )\n",
    ")\n",
    "\n",
    "# MonoDepth\n",
    "for i, col in enumerate(mono_pitch_df):\n",
    "    # standard deviation area upper bound line\n",
    "    fig.add_trace(go.Scatter(x=cols_ints, y=mono_pitch_means.add(mono_pitch_stds.multiply(1)),\n",
    "                                     mode='lines',\n",
    "                                     line=dict(color=mono_std_area_bound_line_color,width=0.1),\n",
    "                                     name='upper bound',\n",
    "                                     showlegend=False),1,2)\n",
    "\n",
    "    # standard deviation area upper bound\n",
    "    fig.add_trace(go.Scatter(x=cols_ints,\n",
    "                              y=mono_pitch_df.mean(),\n",
    "                              line=dict(color=mono_std_area_color),\n",
    "                              mode='lines',\n",
    "                              hovertemplate = \"Largest predicted horizon shift for MonoDeptch<br> within 1 sigma range: %{y:.2f}px<extra></extra>\",\n",
    "                              fill='tonexty',\n",
    "                              name='mean',\n",
    "                              showlegend=False),1,2)\n",
    "    # standard deviation area lower bound\n",
    "    fig.add_trace(go.Scatter(x=cols_ints,\n",
    "                              y=mono_pitch_means.sub(mono_pitch_stds.multiply(1)),\n",
    "                              line=dict(color=mono_std_area_color),\n",
    "                              mode='lines',\n",
    "                              fill='tonexty',\n",
    "                              name='lower bound',\n",
    "                              showlegend=False),1,2)\n",
    "    # standard deviation lower bound line\n",
    "    fig.add_trace(go.Scatter(x=cols_ints,\n",
    "                              y=mono_pitch_means.sub(mono_pitch_stds.multiply(1)),\n",
    "                              line=dict(color=mono_std_area_bound_line_color,width=0.1),\n",
    "                              mode='lines',\n",
    "                              hovertemplate = \"Smallest predicted horizon shift when <br />shifting the horizon by %{x:.1f}px for MonoDeptch<br /> within 1 sigma range: %{y:.2f}px<extra></extra>\",\n",
    "                              name='lower bound',\n",
    "                              showlegend=False),1,2)\n",
    "    \n",
    "    # mean line\n",
    "    fig.add_trace(go.Scatter(x=cols_ints,\n",
    "                              y=mono_pitch_means,\n",
    "                              line=dict(color=mono_mean_line_color,width=1.5),\n",
    "                              mode='markers+lines',\n",
    "                              hovertemplate = \"Mean shift in horizon in MonoDeptch<br> predictions by %{y:.2f}px<extra></extra>\",\n",
    "                              name='mean',\n",
    "                              showlegend=False),1,2)\n",
    "    \n",
    "    # exptected line\n",
    "    fig.add_trace(go.Scatter(x=cols_ints,\n",
    "                              y=cols_ints,\n",
    "                              line=dict(color=\"black\",width=1.5,dash=\"dash\"),\n",
    "                              mode='lines',\n",
    "                              hovertemplate = \"expected a shift in horizon by %{x}px<extra></extra>\",\n",
    "                              name='expected',\n",
    "                              showlegend=False),1,2)\n",
    "    \n",
    "fig.update_layout(height=500)\n",
    "fig.update_layout(width=950)\n",
    "fig.update_layout(yaxis_range=[-32,32])\n",
    "fig.update_layout(xaxis_range=[-32,32])\n",
    "\n",
    "# plot background color and grid\n",
    "fig.update_layout(plot_bgcolor='rgba(0,0,0,0)')\n",
    "fig.update_xaxes(showline=True, linewidth=1, linecolor='gray', gridcolor='black')\n",
    "fig.update_xaxes(zeroline=True, zerolinewidth=1, zerolinecolor='gray')\n",
    "fig.update_xaxes(tick0 = -30, dtick = 10, range=[-32,32])\n",
    "fig.update_xaxes(title=\"True horizon shift [px]\")\n",
    "\n",
    "fig.update_yaxes(showline=True, linewidth=1, linecolor='gray', gridcolor='black')\n",
    "fig.update_yaxes(zeroline=True, zerolinewidth=1, zerolinecolor='gray')\n",
    "fig.update_yaxes(tick0 = -30, dtick = 10, range=[-32,32])\n",
    "fig.update_yaxes(title=\"Horizon shift in depth map [px]\")\n",
    "\n",
    "fig.show()\n",
    "fig.write_html(\"camera_pose_pitch_horizon_plot.html\")"
   ]
  },
  {
   "cell_type": "code",
   "execution_count": null,
   "id": "1d8c24c6",
   "metadata": {},
   "outputs": [],
   "source": []
  }
 ],
 "metadata": {
  "kernelspec": {
   "display_name": "Python 3 (ipykernel)",
   "language": "python",
   "name": "python3"
  },
  "language_info": {
   "codemirror_mode": {
    "name": "ipython",
    "version": 3
   },
   "file_extension": ".py",
   "mimetype": "text/x-python",
   "name": "python",
   "nbconvert_exporter": "python",
   "pygments_lexer": "ipython3",
   "version": "3.8.10"
  },
  "toc": {
   "base_numbering": 1,
   "nav_menu": {},
   "number_sections": true,
   "sideBar": true,
   "skip_h1_title": false,
   "title_cell": "Table of Contents",
   "title_sidebar": "Contents",
   "toc_cell": false,
   "toc_position": {},
   "toc_section_display": true,
   "toc_window_display": false
  }
 },
 "nbformat": 4,
 "nbformat_minor": 5
}
